{
  "cells": [
    {
      "cell_type": "markdown",
      "source": [
        "# Installation"
      ],
      "metadata": {
        "id": "b7ZYnZ_-s51m"
      }
    },
    {
      "cell_type": "code",
      "source": [
        "!pip install pyspark\n",
        "\n",
        "# Import SparkSession\n",
        "from pyspark.sql import SparkSession\n",
        "\n",
        "# Create a Spark Session\n",
        "spark = SparkSession.builder.master(\"local[*]\").getOrCreate()\n",
        "\n",
        "# Check Spark Session Information\n",
        "spark"
      ],
      "metadata": {
        "colab": {
          "base_uri": "https://localhost:8080/",
          "height": 488
        },
        "id": "EfZatr7GszJ2",
        "outputId": "d4e94ce4-a7ba-41e6-b4f1-ca04e225d857"
      },
      "execution_count": 1,
      "outputs": [
        {
          "output_type": "stream",
          "name": "stdout",
          "text": [
            "Looking in indexes: https://pypi.org/simple, https://us-python.pkg.dev/colab-wheels/public/simple/\n",
            "Collecting pyspark\n",
            "  Downloading pyspark-3.3.2.tar.gz (281.4 MB)\n",
            "\u001b[2K     \u001b[90m━━━━━━━━━━━━━━━━━━━━━━━━━━━━━━━━━━━━━━━\u001b[0m \u001b[32m281.4/281.4 MB\u001b[0m \u001b[31m4.5 MB/s\u001b[0m eta \u001b[36m0:00:00\u001b[0m\n",
            "\u001b[?25h  Preparing metadata (setup.py) ... \u001b[?25l\u001b[?25hdone\n",
            "Collecting py4j==0.10.9.5\n",
            "  Downloading py4j-0.10.9.5-py2.py3-none-any.whl (199 kB)\n",
            "\u001b[2K     \u001b[90m━━━━━━━━━━━━━━━━━━━━━━━━━━━━━━━━━━━━━━\u001b[0m \u001b[32m199.7/199.7 KB\u001b[0m \u001b[31m13.6 MB/s\u001b[0m eta \u001b[36m0:00:00\u001b[0m\n",
            "\u001b[?25hBuilding wheels for collected packages: pyspark\n",
            "  Building wheel for pyspark (setup.py) ... \u001b[?25l\u001b[?25hdone\n",
            "  Created wheel for pyspark: filename=pyspark-3.3.2-py2.py3-none-any.whl size=281824025 sha256=87007e31e5328a2c6b269cf68acd437e03319ef62010b591c9579d8d0fd4b749\n",
            "  Stored in directory: /root/.cache/pip/wheels/6c/e3/9b/0525ce8a69478916513509d43693511463c6468db0de237c86\n",
            "Successfully built pyspark\n",
            "Installing collected packages: py4j, pyspark\n",
            "Successfully installed py4j-0.10.9.5 pyspark-3.3.2\n"
          ]
        },
        {
          "output_type": "execute_result",
          "data": {
            "text/plain": [
              "<pyspark.sql.session.SparkSession at 0x7f1f000ae550>"
            ],
            "text/html": [
              "\n",
              "            <div>\n",
              "                <p><b>SparkSession - in-memory</b></p>\n",
              "                \n",
              "        <div>\n",
              "            <p><b>SparkContext</b></p>\n",
              "\n",
              "            <p><a href=\"http://d20c7d62a54c:4040\">Spark UI</a></p>\n",
              "\n",
              "            <dl>\n",
              "              <dt>Version</dt>\n",
              "                <dd><code>v3.3.2</code></dd>\n",
              "              <dt>Master</dt>\n",
              "                <dd><code>local[*]</code></dd>\n",
              "              <dt>AppName</dt>\n",
              "                <dd><code>pyspark-shell</code></dd>\n",
              "            </dl>\n",
              "        </div>\n",
              "        \n",
              "            </div>\n",
              "        "
            ]
          },
          "metadata": {},
          "execution_count": 1
        }
      ]
    },
    {
      "cell_type": "markdown",
      "metadata": {
        "id": "1oOP6IhPstok"
      },
      "source": [
        "# Some data"
      ]
    },
    {
      "cell_type": "code",
      "execution_count": 2,
      "metadata": {
        "id": "ypedfUjUstol"
      },
      "outputs": [],
      "source": [
        "dirty_data = spark.createDataFrame([\n",
        "          (1,'Porsche','Boxster S','Turbo',2.5,4,22,None)\n",
        "        , (2,'Aston Martin','Vanquish','Aspirated',6.0,12,16,None)\n",
        "        , (3,'Porsche','911 Carrera 4S Cabriolet','Turbo',3.0,6,24,None)\n",
        "        , (3,'General Motors','SPARK ACTIV','Aspirated',1.4,None,32,None)\n",
        "        , (5,'BMW','COOPER S HARDTOP 2 DOOR','Turbo',2.0,4,26,None)\n",
        "        , (6,'BMW','330i','Turbo',2.0,None,27,None)\n",
        "        , (7,'BMW','440i Coupe','Turbo',3.0,6,23,None)\n",
        "        , (8,'BMW','440i Coupe','Turbo',3.0,6,23,None)\n",
        "        , (9,'Mercedes-Benz',None,None,None,None,27,None)\n",
        "        , (10,'Mercedes-Benz','CLS 550','Turbo',4.7,8,21,79231)\n",
        "        , (11,'Volkswagen','GTI','Turbo',2.0,4,None,None)\n",
        "        , (12,'Ford Motor Company','FUSION AWD','Turbo',2.7,6,20,None)\n",
        "        , (13,'Nissan','Q50 AWD RED SPORT','Turbo',3.0,6,22,None)\n",
        "        , (14,'Nissan','Q70 AWD','Aspirated',5.6,8,18,None)\n",
        "        , (15,'Kia','Stinger RWD','Turbo',2.0,4,25,None)\n",
        "        , (16,'Toyota','CAMRY HYBRID LE','Aspirated',2.5,4,46,None)\n",
        "        , (16,'Toyota','CAMRY HYBRID LE','Aspirated',2.5,4,46,None)\n",
        "        , (18,'FCA US LLC','300','Aspirated',3.6,6,23,None)\n",
        "        , (19,'Hyundai','G80 AWD','Turbo',3.3,6,20,None)\n",
        "        , (20,'Hyundai','G80 AWD','Turbo',3.3,6,20,None)\n",
        "        , (21,'BMW','X5 M','Turbo',4.4,8,18,121231)\n",
        "        , (22,'GE','K1500 SUBURBAN 4WD','Aspirated',5.3,8,18,None)\n",
        "    ], ['Id','Manufacturer','Model','EngineType','Displacement',\n",
        "        'Cylinders','FuelEconomy','MSRP'])"
      ]
    },
    {
      "cell_type": "markdown",
      "metadata": {
        "id": "iHIScyuDstoo"
      },
      "source": [
        "# Handling duplicates"
      ]
    },
    {
      "cell_type": "markdown",
      "metadata": {
        "id": "Qi3pJ4MXstop"
      },
      "source": [
        "### Exact duplicates"
      ]
    },
    {
      "cell_type": "code",
      "execution_count": 3,
      "metadata": {
        "colab": {
          "base_uri": "https://localhost:8080/"
        },
        "id": "v5CKw6q4stor",
        "outputId": "5a4fa97c-9653-41a5-9020-cd83448537fd"
      },
      "outputs": [
        {
          "output_type": "execute_result",
          "data": {
            "text/plain": [
              "(22, 21)"
            ]
          },
          "metadata": {},
          "execution_count": 3
        }
      ],
      "source": [
        "# do we have any rows that are duplicated?\n",
        "dirty_data.count(), dirty_data.distinct().count()"
      ]
    },
    {
      "cell_type": "code",
      "execution_count": 6,
      "metadata": {
        "colab": {
          "base_uri": "https://localhost:8080/"
        },
        "id": "Z8eeqCZPstos",
        "outputId": "04f097bc-30ed-4814-8f40-896637c5b1e0"
      },
      "outputs": [
        {
          "output_type": "stream",
          "name": "stdout",
          "text": [
            "+---+------------+---------------+----------+------------+---------+-----------+----+-----+\n",
            "| Id|Manufacturer|          Model|EngineType|Displacement|Cylinders|FuelEconomy|MSRP|count|\n",
            "+---+------------+---------------+----------+------------+---------+-----------+----+-----+\n",
            "| 16|      Toyota|CAMRY HYBRID LE| Aspirated|         2.5|        4|         46|null|    2|\n",
            "+---+------------+---------------+----------+------------+---------+-----------+----+-----+\n",
            "\n"
          ]
        }
      ],
      "source": [
        "# what row is duplicated?\n",
        "(\n",
        "    dirty_data\n",
        "    .groupby(dirty_data.columns)\n",
        "    .count()\n",
        "    .filter('count > 1')\n",
        "    .show()\n",
        ")"
      ]
    },
    {
      "cell_type": "code",
      "execution_count": 7,
      "metadata": {
        "colab": {
          "base_uri": "https://localhost:8080/"
        },
        "id": "j6QO5UASstot",
        "outputId": "e5d3a37a-5323-49d5-babf-f684ef1644fd"
      },
      "outputs": [
        {
          "output_type": "execute_result",
          "data": {
            "text/plain": [
              "21"
            ]
          },
          "metadata": {},
          "execution_count": 7
        }
      ],
      "source": [
        "# remove the duplicated rows\n",
        "full_removed = dirty_data.dropDuplicates()\n",
        "full_removed.count()"
      ]
    },
    {
      "cell_type": "markdown",
      "metadata": {
        "id": "CpUATa45stov"
      },
      "source": [
        "### Only ID differs"
      ]
    },
    {
      "cell_type": "code",
      "execution_count": 8,
      "metadata": {
        "colab": {
          "base_uri": "https://localhost:8080/"
        },
        "id": "ISnn9xaCstox",
        "outputId": "9a41ced4-6599-4772-f67d-ee0e52292c56"
      },
      "outputs": [
        {
          "output_type": "execute_result",
          "data": {
            "text/plain": [
              "(21, 19)"
            ]
          },
          "metadata": {},
          "execution_count": 8
        }
      ],
      "source": [
        "# count of rows\n",
        "no_ids = (\n",
        "    full_removed\n",
        "    .select([col for col in full_removed.columns if col != 'Id'])\n",
        ")\n",
        "\n",
        "no_ids.count(), no_ids.distinct().count()"
      ]
    },
    {
      "cell_type": "code",
      "execution_count": 9,
      "metadata": {
        "colab": {
          "base_uri": "https://localhost:8080/"
        },
        "id": "ng0Hk95Rstoy",
        "outputId": "bfb829b7-a286-4a3f-948d-9427dfce80cc"
      },
      "outputs": [
        {
          "output_type": "stream",
          "name": "stdout",
          "text": [
            "+------------+----------+----------+------------+---------+-----------+----+-----+\n",
            "|Manufacturer|     Model|EngineType|Displacement|Cylinders|FuelEconomy|MSRP|count|\n",
            "+------------+----------+----------+------------+---------+-----------+----+-----+\n",
            "|         BMW|440i Coupe|     Turbo|         3.0|        6|         23|null|    2|\n",
            "|     Hyundai|   G80 AWD|     Turbo|         3.3|        6|         20|null|    2|\n",
            "+------------+----------+----------+------------+---------+-----------+----+-----+\n",
            "\n"
          ]
        }
      ],
      "source": [
        "# what row is duplicated?\n",
        "(\n",
        "    full_removed\n",
        "    .groupby([col for col in full_removed.columns if col != 'Id'])\n",
        "    .count()\n",
        "    .filter('count > 1')\n",
        "    .show()\n",
        ")"
      ]
    },
    {
      "cell_type": "code",
      "execution_count": 10,
      "metadata": {
        "id": "MucLD-histoz"
      },
      "outputs": [],
      "source": [
        "# remove the duplicated record\n",
        "id_removed = full_removed.dropDuplicates(\n",
        "    subset = [col for col in full_removed.columns if col != 'Id']\n",
        ")"
      ]
    },
    {
      "cell_type": "code",
      "execution_count": 11,
      "metadata": {
        "colab": {
          "base_uri": "https://localhost:8080/"
        },
        "id": "Y5PUOXpLsto0",
        "outputId": "969d0c16-b413-40f7-fd94-b7488b39d619"
      },
      "outputs": [
        {
          "output_type": "execute_result",
          "data": {
            "text/plain": [
              "19"
            ]
          },
          "metadata": {},
          "execution_count": 11
        }
      ],
      "source": [
        "# count\n",
        "id_removed.count()"
      ]
    },
    {
      "cell_type": "markdown",
      "metadata": {
        "id": "HLkhHG9ysto1"
      },
      "source": [
        "### Duplicated IDs"
      ]
    },
    {
      "cell_type": "code",
      "execution_count": 12,
      "metadata": {
        "colab": {
          "base_uri": "https://localhost:8080/"
        },
        "id": "m2nZh3Ugsto2",
        "outputId": "de8c6de2-2de5-4d41-ea76-5403274cbf95"
      },
      "outputs": [
        {
          "output_type": "stream",
          "name": "stdout",
          "text": [
            "+----------+------------------+\n",
            "|CountOfIDs|CountOfDistinctIDs|\n",
            "+----------+------------------+\n",
            "|        19|                18|\n",
            "+----------+------------------+\n",
            "\n"
          ]
        }
      ],
      "source": [
        "# are there any duplicated IDs?\n",
        "import pyspark.sql.functions as fn\n",
        "\n",
        "id_removed.agg(\n",
        "      fn.count('Id').alias('CountOfIDs')\n",
        "    , fn.countDistinct('Id').alias('CountOfDistinctIDs')\n",
        ").show()"
      ]
    },
    {
      "cell_type": "code",
      "execution_count": 13,
      "metadata": {
        "colab": {
          "base_uri": "https://localhost:8080/"
        },
        "id": "a39ZfQPOsto3",
        "outputId": "a47338f4-8e2d-4817-c9d4-52082c51ffc4"
      },
      "outputs": [
        {
          "output_type": "stream",
          "name": "stdout",
          "text": [
            "+---+-----+\n",
            "| Id|count|\n",
            "+---+-----+\n",
            "|  3|    2|\n",
            "+---+-----+\n",
            "\n"
          ]
        }
      ],
      "source": [
        "# what's duplicated?\n",
        "(\n",
        "    id_removed\n",
        "    .groupby('Id')\n",
        "    .count()\n",
        "    .filter('count > 1')\n",
        "    .show()\n",
        ")"
      ]
    },
    {
      "cell_type": "code",
      "execution_count": 14,
      "metadata": {
        "colab": {
          "base_uri": "https://localhost:8080/"
        },
        "id": "c4kWdK-Isto4",
        "outputId": "a06927ec-2f14-42d5-a16b-ccc1f8f83585"
      },
      "outputs": [
        {
          "output_type": "stream",
          "name": "stdout",
          "text": [
            "+---+--------------+--------------------+----------+------------+---------+-----------+----+\n",
            "| Id|  Manufacturer|               Model|EngineType|Displacement|Cylinders|FuelEconomy|MSRP|\n",
            "+---+--------------+--------------------+----------+------------+---------+-----------+----+\n",
            "|  3|General Motors|         SPARK ACTIV| Aspirated|         1.4|     null|         32|null|\n",
            "|  3|       Porsche|911 Carrera 4S Ca...|     Turbo|         3.0|        6|         24|null|\n",
            "+---+--------------+--------------------+----------+------------+---------+-----------+----+\n",
            "\n"
          ]
        }
      ],
      "source": [
        "(\n",
        "    id_removed\n",
        "    .filter('Id = 3')\n",
        "    .show()\n",
        ")"
      ]
    },
    {
      "cell_type": "code",
      "execution_count": 15,
      "metadata": {
        "colab": {
          "base_uri": "https://localhost:8080/"
        },
        "id": "k-mS613Wsto5",
        "outputId": "e458ea28-0959-4621-d511-c649047c746f"
      },
      "outputs": [
        {
          "output_type": "stream",
          "name": "stdout",
          "text": [
            "+---+------------------+--------------------+----------+------------+---------+-----------+------+\n",
            "| Id|      Manufacturer|               Model|EngineType|Displacement|Cylinders|FuelEconomy|  MSRP|\n",
            "+---+------------------+--------------------+----------+------------+---------+-----------+------+\n",
            "|  0|    General Motors|         SPARK ACTIV| Aspirated|         1.4|     null|         32|  null|\n",
            "|  1|     Mercedes-Benz|             CLS 550|     Turbo|         4.7|        8|         21| 79231|\n",
            "|  2|     Mercedes-Benz|                null|      null|        null|     null|         27|  null|\n",
            "|  3|               BMW|COOPER S HARDTOP ...|     Turbo|         2.0|        4|         26|  null|\n",
            "|  4|      Aston Martin|            Vanquish| Aspirated|         6.0|       12|         16|  null|\n",
            "|  5|        Volkswagen|                 GTI|     Turbo|         2.0|        4|       null|  null|\n",
            "|  6|               BMW|                330i|     Turbo|         2.0|     null|         27|  null|\n",
            "|  7|           Porsche|           Boxster S|     Turbo|         2.5|        4|         22|  null|\n",
            "|  8|               BMW|          440i Coupe|     Turbo|         3.0|        6|         23|  null|\n",
            "|  9|           Porsche|911 Carrera 4S Ca...|     Turbo|         3.0|        6|         24|  null|\n",
            "| 10|Ford Motor Company|          FUSION AWD|     Turbo|         2.7|        6|         20|  null|\n",
            "| 11|               Kia|         Stinger RWD|     Turbo|         2.0|        4|         25|  null|\n",
            "| 12|        FCA US LLC|                 300| Aspirated|         3.6|        6|         23|  null|\n",
            "| 13|           Hyundai|             G80 AWD|     Turbo|         3.3|        6|         20|  null|\n",
            "| 14|            Nissan|   Q50 AWD RED SPORT|     Turbo|         3.0|        6|         22|  null|\n",
            "| 15|               BMW|                X5 M|     Turbo|         4.4|        8|         18|121231|\n",
            "| 16|            Nissan|             Q70 AWD| Aspirated|         5.6|        8|         18|  null|\n",
            "| 17|            Toyota|     CAMRY HYBRID LE| Aspirated|         2.5|        4|         46|  null|\n",
            "| 18|                GE|  K1500 SUBURBAN 4WD| Aspirated|         5.3|        8|         18|  null|\n",
            "+---+------------------+--------------------+----------+------------+---------+-----------+------+\n",
            "\n"
          ]
        }
      ],
      "source": [
        "new_id = (\n",
        "    id_removed\n",
        "    .select(\n",
        "        [fn.monotonically_increasing_id().alias('Id')] + \n",
        "        [col for col in id_removed.columns if col != 'Id'])\n",
        ")\n",
        "\n",
        "new_id.show()"
      ]
    },
    {
      "cell_type": "markdown",
      "metadata": {
        "id": "8_AUAxk0sto5"
      },
      "source": [
        "# Handling missing observations"
      ]
    },
    {
      "cell_type": "markdown",
      "metadata": {
        "collapsed": true,
        "id": "Tx8AX8Zwsto5"
      },
      "source": [
        "### Missing observations per row"
      ]
    },
    {
      "cell_type": "code",
      "execution_count": 16,
      "metadata": {
        "colab": {
          "base_uri": "https://localhost:8080/"
        },
        "id": "oTY9FiJPsto9",
        "outputId": "e5152c50-903f-4cbe-f641-a11effc1265a"
      },
      "outputs": [
        {
          "output_type": "stream",
          "name": "stdout",
          "text": [
            "+---+------------+\n",
            "| Id|CountMissing|\n",
            "+---+------------+\n",
            "|  2|           5|\n",
            "|  0|           2|\n",
            "|  6|           2|\n",
            "|  5|           2|\n",
            "+---+------------+\n",
            "\n"
          ]
        }
      ],
      "source": [
        "(\n",
        "    spark.createDataFrame(\n",
        "        new_id.rdd.map(\n",
        "           lambda row: (\n",
        "                 row['Id']\n",
        "               , sum([c == None for c in row])\n",
        "           )\n",
        "        )\n",
        "        .filter(lambda el: el[1] > 1)\n",
        "        .collect()\n",
        "        ,['Id', 'CountMissing']\n",
        "    )\n",
        "    .orderBy('CountMissing', ascending=False)\n",
        "    .show()\n",
        ")"
      ]
    },
    {
      "cell_type": "code",
      "execution_count": 17,
      "metadata": {
        "colab": {
          "base_uri": "https://localhost:8080/"
        },
        "id": "SMDtk0TWsto9",
        "outputId": "ae811089-92f0-43b0-b6a9-7cf1c331b91b"
      },
      "outputs": [
        {
          "output_type": "stream",
          "name": "stdout",
          "text": [
            "+---+------------+-----+----------+------------+---------+-----------+----+\n",
            "| Id|Manufacturer|Model|EngineType|Displacement|Cylinders|FuelEconomy|MSRP|\n",
            "+---+------------+-----+----------+------------+---------+-----------+----+\n",
            "+---+------------+-----+----------+------------+---------+-----------+----+\n",
            "\n"
          ]
        }
      ],
      "source": [
        "(\n",
        "    new_id\n",
        "    .where('Id == 197568495616')\n",
        "    .show()\n",
        ")"
      ]
    },
    {
      "cell_type": "code",
      "execution_count": 18,
      "metadata": {
        "colab": {
          "base_uri": "https://localhost:8080/"
        },
        "id": "HdJrf0evsto-",
        "outputId": "eaaa09d2-c66d-4673-ef11-2d099fd67786"
      },
      "outputs": [
        {
          "output_type": "execute_result",
          "data": {
            "text/plain": [
              "(19, 18)"
            ]
          },
          "metadata": {},
          "execution_count": 18
        }
      ],
      "source": [
        "merc_out = new_id.dropna(thresh=4)\n",
        "new_id.count(), merc_out.count()"
      ]
    },
    {
      "cell_type": "code",
      "execution_count": 19,
      "metadata": {
        "colab": {
          "base_uri": "https://localhost:8080/"
        },
        "id": "sbxEddCDsto-",
        "outputId": "725a3dd2-0386-4b4f-c2a2-2ca2b79aab10"
      },
      "outputs": [
        {
          "output_type": "stream",
          "name": "stdout",
          "text": [
            "+---+------------+-----+----------+------------+---------+-----------+----+\n",
            "| Id|Manufacturer|Model|EngineType|Displacement|Cylinders|FuelEconomy|MSRP|\n",
            "+---+------------+-----+----------+------------+---------+-----------+----+\n",
            "+---+------------+-----+----------+------------+---------+-----------+----+\n",
            "\n"
          ]
        }
      ],
      "source": [
        "(\n",
        "    merc_out\n",
        "    .where('Id == 197568495616')\n",
        "    .show()\n",
        ")"
      ]
    },
    {
      "cell_type": "markdown",
      "metadata": {
        "id": "RKSNRz8Isto_"
      },
      "source": [
        "### Missing observations per column"
      ]
    },
    {
      "cell_type": "code",
      "execution_count": 20,
      "metadata": {
        "colab": {
          "base_uri": "https://localhost:8080/"
        },
        "id": "XC_JX-OtstpG",
        "outputId": "b29bb47b-47b1-45c6-9438-d5c649932b60"
      },
      "outputs": [
        {
          "output_type": "stream",
          "name": "stdout",
          "text": [
            "MSRP_miss 0.8888888888888888\n",
            "Cylinders_miss 0.11111111111111116\n",
            "FuelEconomy_miss 0.05555555555555558\n",
            "Id_miss 0.0\n",
            "Manufacturer_miss 0.0\n",
            "Model_miss 0.0\n",
            "EngineType_miss 0.0\n",
            "Displacement_miss 0.0\n"
          ]
        }
      ],
      "source": [
        "for k, v in sorted(\n",
        "    merc_out.agg(*[\n",
        "               (1 - (fn.count(c) / fn.count('*')))\n",
        "                    .alias(c + '_miss')\n",
        "               for c in merc_out.columns\n",
        "           ])\n",
        "        .collect()[0]\n",
        "        .asDict()\n",
        "        .items()\n",
        "    , key=lambda el: el[1]\n",
        "    , reverse=True\n",
        "):\n",
        "    print(k, v)"
      ]
    },
    {
      "cell_type": "code",
      "execution_count": 21,
      "metadata": {
        "colab": {
          "base_uri": "https://localhost:8080/"
        },
        "id": "hS8M3ft0stpH",
        "outputId": "74556061-647f-4738-c32c-ecbb2fb5b415"
      },
      "outputs": [
        {
          "output_type": "stream",
          "name": "stdout",
          "text": [
            "+---+------------------+--------------------+----------+------------+---------+-----------+\n",
            "| Id|      Manufacturer|               Model|EngineType|Displacement|Cylinders|FuelEconomy|\n",
            "+---+------------------+--------------------+----------+------------+---------+-----------+\n",
            "|  0|    General Motors|         SPARK ACTIV| Aspirated|         1.4|     null|         32|\n",
            "|  1|     Mercedes-Benz|             CLS 550|     Turbo|         4.7|        8|         21|\n",
            "|  3|               BMW|COOPER S HARDTOP ...|     Turbo|         2.0|        4|         26|\n",
            "|  4|      Aston Martin|            Vanquish| Aspirated|         6.0|       12|         16|\n",
            "|  5|        Volkswagen|                 GTI|     Turbo|         2.0|        4|       null|\n",
            "|  6|               BMW|                330i|     Turbo|         2.0|     null|         27|\n",
            "|  7|           Porsche|           Boxster S|     Turbo|         2.5|        4|         22|\n",
            "|  8|               BMW|          440i Coupe|     Turbo|         3.0|        6|         23|\n",
            "|  9|           Porsche|911 Carrera 4S Ca...|     Turbo|         3.0|        6|         24|\n",
            "| 10|Ford Motor Company|          FUSION AWD|     Turbo|         2.7|        6|         20|\n",
            "| 11|               Kia|         Stinger RWD|     Turbo|         2.0|        4|         25|\n",
            "| 12|        FCA US LLC|                 300| Aspirated|         3.6|        6|         23|\n",
            "| 13|           Hyundai|             G80 AWD|     Turbo|         3.3|        6|         20|\n",
            "| 14|            Nissan|   Q50 AWD RED SPORT|     Turbo|         3.0|        6|         22|\n",
            "| 15|               BMW|                X5 M|     Turbo|         4.4|        8|         18|\n",
            "| 16|            Nissan|             Q70 AWD| Aspirated|         5.6|        8|         18|\n",
            "| 17|            Toyota|     CAMRY HYBRID LE| Aspirated|         2.5|        4|         46|\n",
            "| 18|                GE|  K1500 SUBURBAN 4WD| Aspirated|         5.3|        8|         18|\n",
            "+---+------------------+--------------------+----------+------------+---------+-----------+\n",
            "\n"
          ]
        }
      ],
      "source": [
        "no_MSRP = merc_out.select([col for col in new_id.columns if col != 'MSRP'])\n",
        "no_MSRP.show()"
      ]
    },
    {
      "cell_type": "markdown",
      "metadata": {
        "id": "K5sXJet7stpI"
      },
      "source": [
        "### Sparse missing observations"
      ]
    },
    {
      "cell_type": "code",
      "execution_count": 22,
      "metadata": {
        "colab": {
          "base_uri": "https://localhost:8080/"
        },
        "id": "5oBLAEswstpI",
        "outputId": "a8d98123-a7a8-485e-a80b-97aa937dab1c"
      },
      "outputs": [
        {
          "output_type": "execute_result",
          "data": {
            "text/plain": [
              "{'FuelEconomy': 1.4957485048359977, 'Cylinders': 1.8353365984789105}"
            ]
          },
          "metadata": {},
          "execution_count": 22
        }
      ],
      "source": [
        "multipliers = (\n",
        "    no_MSRP\n",
        "    .agg(\n",
        "          fn.mean(\n",
        "              fn.col('FuelEconomy') / \n",
        "              (\n",
        "                  fn.col('Displacement') * fn.col('Cylinders')\n",
        "              )\n",
        "          ).alias('FuelEconomy')\n",
        "        , fn.mean(\n",
        "            fn.col('Cylinders') / \n",
        "            fn.col('Displacement')\n",
        "        ).alias('Cylinders')\n",
        "    )\n",
        ").toPandas().to_dict('records')[0]\n",
        "\n",
        "multipliers"
      ]
    },
    {
      "cell_type": "code",
      "execution_count": 23,
      "metadata": {
        "colab": {
          "base_uri": "https://localhost:8080/"
        },
        "id": "q_QOsyPBstpJ",
        "outputId": "db56585b-9db8-47c7-ff05-66c51f7f2d88"
      },
      "outputs": [
        {
          "output_type": "stream",
          "name": "stdout",
          "text": [
            "+---+------------------+--------------------+----------+------------+---------+------------------+\n",
            "| Id|      Manufacturer|               Model|EngineType|Displacement|Cylinders|       FuelEconomy|\n",
            "+---+------------------+--------------------+----------+------------+---------+------------------+\n",
            "|  0|    General Motors|         SPARK ACTIV| Aspirated|         1.4|        2|4.1880958135407935|\n",
            "|  1|     Mercedes-Benz|             CLS 550|     Turbo|         4.7|        8|              21.0|\n",
            "|  3|               BMW|COOPER S HARDTOP ...|     Turbo|         2.0|        4|              26.0|\n",
            "|  4|      Aston Martin|            Vanquish| Aspirated|         6.0|       12|              16.0|\n",
            "|  5|        Volkswagen|                 GTI|     Turbo|         2.0|        4|11.965988038687982|\n",
            "|  6|               BMW|                330i|     Turbo|         2.0|        3| 8.974491029015986|\n",
            "|  7|           Porsche|           Boxster S|     Turbo|         2.5|        4|              22.0|\n",
            "|  8|               BMW|          440i Coupe|     Turbo|         3.0|        6|23.000000000000004|\n",
            "|  9|           Porsche|911 Carrera 4S Ca...|     Turbo|         3.0|        6|              24.0|\n",
            "| 10|Ford Motor Company|          FUSION AWD|     Turbo|         2.7|        5|16.666666666666668|\n",
            "| 11|               Kia|         Stinger RWD|     Turbo|         2.0|        4|              25.0|\n",
            "| 12|        FCA US LLC|                 300| Aspirated|         3.6|        6|              23.0|\n",
            "| 13|           Hyundai|             G80 AWD|     Turbo|         3.3|        6|              20.0|\n",
            "| 14|            Nissan|   Q50 AWD RED SPORT|     Turbo|         3.0|        6|21.999999999999996|\n",
            "| 15|               BMW|                X5 M|     Turbo|         4.4|        8|              18.0|\n",
            "| 16|            Nissan|             Q70 AWD| Aspirated|         5.6|        8|              18.0|\n",
            "| 17|            Toyota|     CAMRY HYBRID LE| Aspirated|         2.5|        4|              46.0|\n",
            "| 18|                GE|  K1500 SUBURBAN 4WD| Aspirated|         5.3|        8|              18.0|\n",
            "+---+------------------+--------------------+----------+------------+---------+------------------+\n",
            "\n"
          ]
        }
      ],
      "source": [
        "imputed = (\n",
        "    no_MSRP\n",
        "    .withColumn('FuelEconomy', fn.col('FuelEconomy')   / fn.col('Displacement') / fn.col('Cylinders'))\n",
        "    .withColumn('Cylinders',   fn.col('Cylinders')   / fn.col('Displacement'))\n",
        "    .fillna(multipliers)\n",
        "    .withColumn('Cylinders',   (fn.col('Cylinders')   * fn.col('Displacement')).cast('integer'))\n",
        "    .withColumn('FuelEconomy', fn.col('FuelEconomy') * fn.col('Displacement') * fn.col('Cylinders'))\n",
        ")\n",
        "\n",
        "imputed.show()"
      ]
    },
    {
      "cell_type": "markdown",
      "metadata": {
        "id": "OkR6Y2nKstpK"
      },
      "source": [
        "# Handling outliers"
      ]
    },
    {
      "cell_type": "code",
      "execution_count": 24,
      "metadata": {
        "colab": {
          "base_uri": "https://localhost:8080/"
        },
        "id": "ONx0xl0IstpK",
        "outputId": "822156d4-78cd-4214-b8e4-4b09e4f274ad"
      },
      "outputs": [
        {
          "output_type": "stream",
          "name": "stdout",
          "text": [
            "+---+--------------+-----------+-------------+\n",
            "| id|Displacement_o|Cylinders_o|FuelEconomy_o|\n",
            "+---+--------------+-----------+-------------+\n",
            "|  0|         false|      false|         true|\n",
            "|  1|         false|      false|        false|\n",
            "|  3|         false|      false|        false|\n",
            "|  4|         false|       true|        false|\n",
            "|  5|         false|      false|        false|\n",
            "|  6|         false|      false|        false|\n",
            "|  7|         false|      false|        false|\n",
            "|  8|         false|      false|        false|\n",
            "|  9|         false|      false|        false|\n",
            "| 10|         false|      false|        false|\n",
            "| 11|         false|      false|        false|\n",
            "| 12|         false|      false|        false|\n",
            "| 13|         false|      false|        false|\n",
            "| 14|         false|      false|        false|\n",
            "| 15|         false|      false|        false|\n",
            "| 16|         false|      false|        false|\n",
            "| 17|         false|      false|         true|\n",
            "| 18|         false|      false|        false|\n",
            "+---+--------------+-----------+-------------+\n",
            "\n"
          ]
        }
      ],
      "source": [
        "features = ['Displacement', 'Cylinders', 'FuelEconomy']\n",
        "quantiles = [0.25, 0.75]\n",
        "\n",
        "cut_off_points = []\n",
        "\n",
        "for feature in features:\n",
        "    quants = imputed.approxQuantile(feature, quantiles, 0.05)\n",
        "    \n",
        "    IQR = quants[1] - quants[0]\n",
        "    cut_off_points.append((feature, [\n",
        "        quants[0] - 1.5 * IQR,\n",
        "        quants[1] + 1.5 * IQR,\n",
        "    ]))\n",
        "    \n",
        "cut_off_points = dict(cut_off_points)\n",
        "\n",
        "outliers = imputed.select(*['id'] + [\n",
        "       (\n",
        "           (imputed[f] < cut_off_points[f][0]) |\n",
        "           (imputed[f] > cut_off_points[f][1])\n",
        "       ).alias(f + '_o') for f in features\n",
        "  ])\n",
        "outliers.show()"
      ]
    },
    {
      "cell_type": "code",
      "execution_count": 25,
      "metadata": {
        "colab": {
          "base_uri": "https://localhost:8080/"
        },
        "id": "mZSMucSIstpL",
        "outputId": "49aa15fe-056c-476c-ca9a-227c00140b62"
      },
      "outputs": [
        {
          "output_type": "stream",
          "name": "stdout",
          "text": [
            "+---+--------------+---------------+------------------+\n",
            "| Id|  Manufacturer|          Model|       FuelEconomy|\n",
            "+---+--------------+---------------+------------------+\n",
            "|  0|General Motors|    SPARK ACTIV|4.1880958135407935|\n",
            "| 17|        Toyota|CAMRY HYBRID LE|              46.0|\n",
            "+---+--------------+---------------+------------------+\n",
            "\n"
          ]
        }
      ],
      "source": [
        "with_outliers_flag = imputed.join(outliers, on='Id')\n",
        "\n",
        "(\n",
        "    with_outliers_flag\n",
        "    .filter('FuelEconomy_o')\n",
        "    .select('Id', 'Manufacturer', 'Model', 'FuelEconomy')\n",
        "    .show()\n",
        ")"
      ]
    },
    {
      "cell_type": "code",
      "execution_count": 26,
      "metadata": {
        "id": "MzSwTipzstpM"
      },
      "outputs": [],
      "source": [
        "no_outliers = (\n",
        "    with_outliers_flag\n",
        "    .filter('!FuelEconomy_o')\n",
        "    .select(imputed.columns)\n",
        ")"
      ]
    },
    {
      "cell_type": "markdown",
      "metadata": {
        "id": "aVyhnpwostpM"
      },
      "source": [
        "# Exploring descriptive statistics"
      ]
    },
    {
      "cell_type": "code",
      "execution_count": 27,
      "metadata": {
        "colab": {
          "base_uri": "https://localhost:8080/"
        },
        "id": "JXRCIsdjstpN",
        "outputId": "a5bdb2e8-d5da-486f-df20-6d0f02b1e75b"
      },
      "outputs": [
        {
          "output_type": "stream",
          "name": "stdout",
          "text": [
            "+-------+------------------+-----------------+------------------+\n",
            "|summary|      Displacement|        Cylinders|       FuelEconomy|\n",
            "+-------+------------------+-----------------+------------------+\n",
            "|  count|                16|               16|                16|\n",
            "|   mean|3.4437499999999996|            6.125|19.600446608398162|\n",
            "| stddev|1.3549753995306826|2.276693508870558|4.6666477673737505|\n",
            "|    min|               2.0|                3| 8.974491029015986|\n",
            "|    max|               6.0|               12|              26.0|\n",
            "+-------+------------------+-----------------+------------------+\n",
            "\n"
          ]
        }
      ],
      "source": [
        "descriptive_stats = no_outliers.describe(features)\n",
        "descriptive_stats.show()"
      ]
    },
    {
      "cell_type": "code",
      "execution_count": 28,
      "metadata": {
        "colab": {
          "base_uri": "https://localhost:8080/"
        },
        "id": "Kl6qfTefstpN",
        "outputId": "cf5219c8-0b7b-49d2-df63-bd24d271ace6"
      },
      "outputs": [
        {
          "output_type": "stream",
          "name": "stdout",
          "text": [
            "+-------+-----------------+------------+-----+----------+------------------+-----------------+------------------+\n",
            "|summary|               Id|Manufacturer|Model|EngineType|      Displacement|        Cylinders|       FuelEconomy|\n",
            "+-------+-----------------+------------+-----+----------+------------------+-----------------+------------------+\n",
            "|  count|               16|          16|   16|        16|                16|               16|                16|\n",
            "|   mean|              9.5|        null|300.0|      null|3.4437499999999996|            6.125|19.600446608398162|\n",
            "| stddev|4.979959839195493|        null| null|      null|1.3549753995306826|2.276693508870558|4.6666477673737505|\n",
            "|    min|                1|Aston Martin|  300| Aspirated|               2.0|                3| 8.974491029015986|\n",
            "|    max|               18|  Volkswagen| X5 M|     Turbo|               6.0|               12|              26.0|\n",
            "+-------+-----------------+------------+-----+----------+------------------+-----------------+------------------+\n",
            "\n"
          ]
        }
      ],
      "source": [
        "descriptive_stats_all = no_outliers.describe()\n",
        "descriptive_stats_all.show()"
      ]
    },
    {
      "cell_type": "code",
      "execution_count": 29,
      "metadata": {
        "colab": {
          "base_uri": "https://localhost:8080/"
        },
        "id": "3doQI0k6stpO",
        "outputId": "acb5211b-4a61-4cba-cbcc-9212b74ecb84"
      },
      "outputs": [
        {
          "output_type": "stream",
          "name": "stdout",
          "text": [
            "+---------+-----+------------------+------------------+------------------+-------------------+\n",
            "|Cylinders|Count|           MPG_avg|          Disp_avg|         MPG_stdev|         Disp_stdev|\n",
            "+---------+-----+------------------+------------------+------------------+-------------------+\n",
            "|        3|    1| 8.974491029015986|               2.0|              null|               null|\n",
            "|        4|    4|21.241497009671995|             2.125| 6.413009924998987|0.24999999999999997|\n",
            "|        5|    1|16.666666666666668|               2.7|              null|               null|\n",
            "|        6|    5|              22.4|3.1799999999999997|1.5165750888103096| 0.2683281572999748|\n",
            "|        8|    4|             18.75|               5.0|               1.5| 0.5477225575051655|\n",
            "|       12|    1|              16.0|               6.0|              null|               null|\n",
            "+---------+-----+------------------+------------------+------------------+-------------------+\n",
            "\n"
          ]
        }
      ],
      "source": [
        "(\n",
        "    no_outliers\n",
        "    .select(features)\n",
        "    .groupBy('Cylinders')\n",
        "    .agg(*[\n",
        "          fn.count('*').alias('Count')\n",
        "        , fn.mean('FuelEconomy').alias('MPG_avg')\n",
        "        , fn.mean('Displacement').alias('Disp_avg')\n",
        "        , fn.stddev('FuelEconomy').alias('MPG_stdev')\n",
        "        , fn.stddev('Displacement').alias('Disp_stdev')\n",
        "    ])\n",
        "    .orderBy('Cylinders')\n",
        ").show()"
      ]
    },
    {
      "cell_type": "markdown",
      "metadata": {
        "id": "3SEXWh5XstpP"
      },
      "source": [
        "# Computing correlations"
      ]
    },
    {
      "cell_type": "code",
      "execution_count": 30,
      "metadata": {
        "colab": {
          "base_uri": "https://localhost:8080/"
        },
        "id": "r3p_1xc9stpP",
        "outputId": "2b6b4e45-3aa3-4907-f22a-a260a3937912"
      },
      "outputs": [
        {
          "output_type": "execute_result",
          "data": {
            "text/plain": [
              "0.9381829964408112"
            ]
          },
          "metadata": {},
          "execution_count": 30
        }
      ],
      "source": [
        "(\n",
        "    no_outliers\n",
        "    .corr('Cylinders', 'Displacement')\n",
        ")"
      ]
    },
    {
      "cell_type": "code",
      "execution_count": 31,
      "metadata": {
        "colab": {
          "base_uri": "https://localhost:8080/"
        },
        "id": "Y_Z8F4WIstpQ",
        "outputId": "ec1af3fc-9b0a-41f8-d49b-a8070fe657dd"
      },
      "outputs": [
        {
          "output_type": "stream",
          "name": "stdout",
          "text": [
            "+------------+------------+------------------+--------------------+\n",
            "|      Column|Displacement|         Cylinders|         FuelEconomy|\n",
            "+------------+------------+------------------+--------------------+\n",
            "|Displacement|         1.0|0.9381829964408112|-0.10757908872387673|\n",
            "|   Cylinders|        null|               1.0| -0.0421854654503534|\n",
            "| FuelEconomy|        null|              null|                 1.0|\n",
            "+------------+------------+------------------+--------------------+\n",
            "\n"
          ]
        }
      ],
      "source": [
        "n_features = len(features)\n",
        "\n",
        "corr = []\n",
        "\n",
        "for i in range(0, n_features):\n",
        "    temp = [None] * i\n",
        "\n",
        "    for j in range(i, n_features):\n",
        "        temp.append(no_outliers.corr(features[i], features[j]))\n",
        "    corr.append([features[i]] + temp)\n",
        "\n",
        "correlations = spark.createDataFrame(corr, ['Column'] + features)\n",
        "\n",
        "correlations.show()"
      ]
    }
  ],
  "metadata": {
    "kernelspec": {
      "display_name": "PySpark3",
      "language": "",
      "name": "pyspark3kernel"
    },
    "language_info": {
      "codemirror_mode": {
        "name": "python",
        "version": 3
      },
      "mimetype": "text/x-python",
      "name": "pyspark3",
      "pygments_lexer": "python3"
    },
    "colab": {
      "provenance": []
    }
  },
  "nbformat": 4,
  "nbformat_minor": 0
}