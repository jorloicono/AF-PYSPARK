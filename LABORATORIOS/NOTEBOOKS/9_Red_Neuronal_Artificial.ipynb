{
  "cells": [
    {
      "cell_type": "code",
      "source": [
        "!pip install pyspark\n",
        "!pip install findspark\n",
        "\n",
        "# Import SparkSession\n",
        "from pyspark.sql import SparkSession\n",
        "\n",
        "# Create a Spark Session\n",
        "spark = SparkSession.builder.master(\"local[*]\").getOrCreate()\n",
        "\n",
        "# Check Spark Session Information\n",
        "spark"
      ],
      "metadata": {
        "colab": {
          "base_uri": "https://localhost:8080/",
          "height": 577
        },
        "id": "ilajBYpc9EiL",
        "outputId": "1ef84450-c931-4cba-ac98-ab5601d19011"
      },
      "execution_count": 1,
      "outputs": [
        {
          "output_type": "stream",
          "name": "stdout",
          "text": [
            "Looking in indexes: https://pypi.org/simple, https://us-python.pkg.dev/colab-wheels/public/simple/\n",
            "Collecting pyspark\n",
            "  Downloading pyspark-3.3.2.tar.gz (281.4 MB)\n",
            "\u001b[2K     \u001b[90m━━━━━━━━━━━━━━━━━━━━━━━━━━━━━━━━━━━━━━━\u001b[0m \u001b[32m281.4/281.4 MB\u001b[0m \u001b[31m2.8 MB/s\u001b[0m eta \u001b[36m0:00:00\u001b[0m\n",
            "\u001b[?25h  Preparing metadata (setup.py) ... \u001b[?25l\u001b[?25hdone\n",
            "Collecting py4j==0.10.9.5\n",
            "  Downloading py4j-0.10.9.5-py2.py3-none-any.whl (199 kB)\n",
            "\u001b[2K     \u001b[90m━━━━━━━━━━━━━━━━━━━━━━━━━━━━━━━━━━━━━━━\u001b[0m \u001b[32m199.7/199.7 KB\u001b[0m \u001b[31m9.1 MB/s\u001b[0m eta \u001b[36m0:00:00\u001b[0m\n",
            "\u001b[?25hBuilding wheels for collected packages: pyspark\n",
            "  Building wheel for pyspark (setup.py) ... \u001b[?25l\u001b[?25hdone\n",
            "  Created wheel for pyspark: filename=pyspark-3.3.2-py2.py3-none-any.whl size=281824025 sha256=2b72813c4c151704b589e4986a9b14c655e3e3ee4df935cac76726e09756f1aa\n",
            "  Stored in directory: /root/.cache/pip/wheels/6c/e3/9b/0525ce8a69478916513509d43693511463c6468db0de237c86\n",
            "Successfully built pyspark\n",
            "Installing collected packages: py4j, pyspark\n",
            "Successfully installed py4j-0.10.9.5 pyspark-3.3.2\n",
            "Looking in indexes: https://pypi.org/simple, https://us-python.pkg.dev/colab-wheels/public/simple/\n",
            "Collecting findspark\n",
            "  Downloading findspark-2.0.1-py2.py3-none-any.whl (4.4 kB)\n",
            "Installing collected packages: findspark\n",
            "Successfully installed findspark-2.0.1\n"
          ]
        },
        {
          "output_type": "execute_result",
          "data": {
            "text/plain": [
              "<pyspark.sql.session.SparkSession at 0x7fe5042b37c0>"
            ],
            "text/html": [
              "\n",
              "            <div>\n",
              "                <p><b>SparkSession - in-memory</b></p>\n",
              "                \n",
              "        <div>\n",
              "            <p><b>SparkContext</b></p>\n",
              "\n",
              "            <p><a href=\"http://0330884fe186:4040\">Spark UI</a></p>\n",
              "\n",
              "            <dl>\n",
              "              <dt>Version</dt>\n",
              "                <dd><code>v3.3.2</code></dd>\n",
              "              <dt>Master</dt>\n",
              "                <dd><code>local[*]</code></dd>\n",
              "              <dt>AppName</dt>\n",
              "                <dd><code>pyspark-shell</code></dd>\n",
              "            </dl>\n",
              "        </div>\n",
              "        \n",
              "            </div>\n",
              "        "
            ]
          },
          "metadata": {},
          "execution_count": 1
        }
      ]
    },
    {
      "cell_type": "code",
      "execution_count": 2,
      "metadata": {
        "id": "yRmChdNH9Do1"
      },
      "outputs": [],
      "source": [
        "# (1) Import the required Python dependencies\n",
        "import findspark\n",
        "findspark.init()\n",
        "from pyspark import SparkContext, SparkConf\n",
        "from pyspark.sql import SQLContext\n",
        "from pyspark.ml.feature import VectorAssembler\n",
        "from pyspark.ml.classification import MultilayerPerceptronClassifier\n",
        "from pyspark.ml.evaluation import MulticlassClassificationEvaluator"
      ]
    },
    {
      "cell_type": "code",
      "execution_count": 3,
      "metadata": {
        "colab": {
          "base_uri": "https://localhost:8080/"
        },
        "id": "iLRJElma9Do4",
        "outputId": "1f70bdac-83f2-4f7d-d2d0-8103814e739a"
      },
      "outputs": [
        {
          "output_type": "stream",
          "name": "stderr",
          "text": [
            "/usr/local/lib/python3.9/dist-packages/pyspark/sql/context.py:112: FutureWarning: Deprecated in 3.0.0. Use SparkSession.builder.getOrCreate() instead.\n",
            "  warnings.warn(\n"
          ]
        }
      ],
      "source": [
        "# (2) Instantiate a Spark Context\n",
        "sqlContext = SQLContext(spark)"
      ]
    },
    {
      "cell_type": "code",
      "source": [
        "from google.colab import drive\n",
        "drive.mount('/content/drive')"
      ],
      "metadata": {
        "colab": {
          "base_uri": "https://localhost:8080/"
        },
        "id": "vouhi-ml-SBn",
        "outputId": "dc8228dc-acc5-4335-d467-9c87c871ace6"
      },
      "execution_count": 5,
      "outputs": [
        {
          "output_type": "stream",
          "name": "stdout",
          "text": [
            "Mounted at /content/drive\n"
          ]
        }
      ]
    },
    {
      "cell_type": "code",
      "execution_count": 6,
      "metadata": {
        "colab": {
          "base_uri": "https://localhost:8080/"
        },
        "id": "lAFRj3It9Do6",
        "outputId": "269e1406-21eb-4137-9750-3781f63a4770"
      },
      "outputs": [
        {
          "output_type": "stream",
          "name": "stdout",
          "text": [
            "+-----+----------------------------------------------------------------------+\n",
            "|label|features                                                              |\n",
            "+-----+----------------------------------------------------------------------+\n",
            "|19   |[2.0,8.0,3.0,5.0,1.0,8.0,13.0,0.0,6.0,6.0,10.0,8.0,0.0,8.0,0.0,8.0]   |\n",
            "|8    |[5.0,12.0,3.0,7.0,2.0,10.0,5.0,5.0,4.0,13.0,3.0,9.0,2.0,8.0,4.0,10.0] |\n",
            "|3    |[4.0,11.0,6.0,8.0,6.0,10.0,6.0,2.0,6.0,10.0,3.0,7.0,3.0,7.0,3.0,9.0]  |\n",
            "|13   |[7.0,11.0,6.0,6.0,3.0,5.0,9.0,4.0,6.0,4.0,4.0,10.0,6.0,10.0,2.0,8.0]  |\n",
            "|6    |[2.0,1.0,3.0,1.0,1.0,8.0,6.0,6.0,6.0,6.0,5.0,9.0,1.0,7.0,5.0,10.0]    |\n",
            "|18   |[4.0,11.0,5.0,8.0,3.0,8.0,8.0,6.0,9.0,5.0,6.0,6.0,0.0,8.0,9.0,7.0]    |\n",
            "|1    |[4.0,2.0,5.0,4.0,4.0,8.0,7.0,6.0,6.0,7.0,6.0,6.0,2.0,8.0,7.0,10.0]    |\n",
            "|0    |[1.0,1.0,3.0,2.0,1.0,8.0,2.0,2.0,2.0,8.0,2.0,8.0,1.0,6.0,2.0,7.0]     |\n",
            "|9    |[2.0,2.0,4.0,4.0,2.0,10.0,6.0,2.0,6.0,12.0,4.0,8.0,1.0,6.0,1.0,7.0]   |\n",
            "|12   |[11.0,15.0,13.0,9.0,7.0,13.0,2.0,6.0,2.0,12.0,1.0,9.0,8.0,1.0,1.0,8.0]|\n",
            "+-----+----------------------------------------------------------------------+\n",
            "only showing top 10 rows\n",
            "\n"
          ]
        }
      ],
      "source": [
        "# (3) Load the Letter Recognition Dataset (in CSV format with pre-defined label and features columns)\n",
        "# (3.1) Create Feature Vectors from the 16 features\n",
        "# (3.2) Rename the 'lettr' column to 'label' which is a number representing one of the 26 characters in the English alphabet\n",
        "\n",
        "letter_recognition_df = sqlContext.read.format('com.databricks.spark.csv').options(header = 'true', inferschema = 'true').load('/content/drive/MyDrive/letter-recognition.csv')\n",
        "feature_columns = ['x-box','y-box','width','high','onpix','x-bar','y-bar','x2bar','y2bar','xybar','x2ybr','xy2br','x-ege','xegvy','y-ege','yegvx']\n",
        "vector_assembler = VectorAssembler(inputCols = feature_columns, outputCol = 'features')\n",
        "vectorised_df = vector_assembler.transform(letter_recognition_df).withColumnRenamed('lettr', 'label').select('label', 'features')\n",
        "vectorised_df.show(10, False)"
      ]
    },
    {
      "cell_type": "code",
      "execution_count": 7,
      "metadata": {
        "colab": {
          "base_uri": "https://localhost:8080/"
        },
        "id": "5wADe9qK9Do8",
        "outputId": "4b2ffb15-1dd3-4090-96fe-4aa9b612ece7"
      },
      "outputs": [
        {
          "output_type": "execute_result",
          "data": {
            "text/plain": [
              "(14928, 5072)"
            ]
          },
          "metadata": {},
          "execution_count": 7
        }
      ],
      "source": [
        "# (4) Split the Featurised DataFrame into a Training DataFrame and a Test DataFrame\n",
        "train_df, test_df = vectorised_df.randomSplit([0.75, 0.25], seed=12345)\n",
        "train_df.count(), test_df.count()"
      ]
    },
    {
      "cell_type": "code",
      "execution_count": 8,
      "metadata": {
        "id": "LXjvehLl9Do-"
      },
      "outputs": [],
      "source": [
        "# (5) Specify the layers for our Neural Network\n",
        "# (5.1) The 1st element in this list represents the size of the Input Layer. In our case, we have 16 features\n",
        "# (5.2) The next elements in the list represent the sizes of the intermediate Hidden Layers, in our case 8 and 4\n",
        "# (5.3) The final element in this list represents the size of the Output. In our case, we have 26 classes\n",
        "layers = [16, 8, 4, 26]"
      ]
    },
    {
      "cell_type": "code",
      "execution_count": 9,
      "metadata": {
        "id": "EVTwUNbS9Do-"
      },
      "outputs": [],
      "source": [
        "# (6) Train a Multilayer Perceptron Classifier using our list representing our layers from input to output layers\n",
        "multilayer_perceptron_classifier = MultilayerPerceptronClassifier(maxIter=100, layers=layers, blockSize=128, seed=1234)\n",
        "multilayer_perceptron_classifier_model = multilayer_perceptron_classifier.fit(train_df)"
      ]
    },
    {
      "cell_type": "code",
      "execution_count": 10,
      "metadata": {
        "colab": {
          "base_uri": "https://localhost:8080/"
        },
        "id": "-yK4hb8J9Do_",
        "outputId": "7eedc239-d077-42bf-e2d9-fd0a1bf888b5"
      },
      "outputs": [
        {
          "output_type": "stream",
          "name": "stdout",
          "text": [
            "TEST DATASET PREDICTIONS AGAINST ACTUAL LABEL: \n",
            "+-----+--------------------+--------------------+----------+\n",
            "|label|            features|         probability|prediction|\n",
            "+-----+--------------------+--------------------+----------+\n",
            "|    0|[1.0,0.0,2.0,0.0,...|[0.15619111535018...|       0.0|\n",
            "|    0|[1.0,1.0,2.0,1.0,...|[0.15893128477663...|       0.0|\n",
            "|    0|[1.0,1.0,2.0,1.0,...|[0.15959651436080...|       0.0|\n",
            "|    0|[1.0,1.0,2.0,1.0,...|[0.15981651802448...|       0.0|\n",
            "|    0|[1.0,1.0,3.0,2.0,...|[0.16029609377926...|       0.0|\n",
            "|    0|[1.0,3.0,2.0,2.0,...|[0.16067052540085...|       0.0|\n",
            "|    0|[1.0,3.0,2.0,2.0,...|[0.16033461316887...|       0.0|\n",
            "|    0|[2.0,1.0,3.0,2.0,...|[0.16029077174310...|       0.0|\n",
            "|    0|[2.0,1.0,4.0,2.0,...|[0.16022812484398...|       0.0|\n",
            "|    0|[2.0,2.0,4.0,4.0,...|[0.16029862050764...|       0.0|\n",
            "|    0|[2.0,3.0,3.0,1.0,...|[0.16028610094273...|       0.0|\n",
            "|    0|[2.0,3.0,3.0,1.0,...|[0.16030575431848...|       0.0|\n",
            "|    0|[2.0,3.0,4.0,2.0,...|[0.16029053266557...|       0.0|\n",
            "|    0|[2.0,3.0,4.0,2.0,...|[0.16029183865731...|       0.0|\n",
            "|    0|[2.0,3.0,4.0,4.0,...|[0.16029045981617...|       0.0|\n",
            "|    0|[2.0,4.0,3.0,2.0,...|[0.16029074762195...|       0.0|\n",
            "|    0|[2.0,4.0,3.0,3.0,...|[0.16029368744479...|       0.0|\n",
            "|    0|[2.0,4.0,3.0,3.0,...|[0.15855491531072...|       0.0|\n",
            "|    0|[2.0,4.0,3.0,3.0,...|[0.16081519719202...|       0.0|\n",
            "|    0|[2.0,4.0,3.0,3.0,...|[0.16029186395992...|       0.0|\n",
            "+-----+--------------------+--------------------+----------+\n",
            "only showing top 20 rows\n",
            "\n"
          ]
        }
      ],
      "source": [
        "# (7) Apply the Trained Multilayer Perceptron Classifier Model to the Test DataFrame to make predictions\n",
        "test_predictions_df = multilayer_perceptron_classifier_model.transform(test_df)\n",
        "print(\"TEST DATASET PREDICTIONS AGAINST ACTUAL LABEL: \")\n",
        "test_predictions_df.select(\"label\", \"features\", \"probability\", \"prediction\").show()"
      ]
    },
    {
      "cell_type": "code",
      "execution_count": 11,
      "metadata": {
        "colab": {
          "base_uri": "https://localhost:8080/"
        },
        "id": "hu-uQQ0v9DpA",
        "outputId": "5ccfcfda-e77f-43f1-b01d-7983b9e5f84c"
      },
      "outputs": [
        {
          "output_type": "stream",
          "name": "stdout",
          "text": [
            "Accuracy on Test Dataset = 0.250197\n",
            "Precision on Test Dataset = 0.213911\n",
            "Recall on Test Dataset = 0.250197\n"
          ]
        }
      ],
      "source": [
        "# (8) Compute the accuracy of our Trained Multilayer Perceptron Classifier Model on the Test DataFrame\n",
        "prediction_and_labels = test_predictions_df.select(\"prediction\", \"label\")\n",
        "accuracy_evaluator = MulticlassClassificationEvaluator(metricName=\"accuracy\")\n",
        "precision_evaluator = MulticlassClassificationEvaluator(metricName=\"weightedPrecision\")\n",
        "recall_evaluator = MulticlassClassificationEvaluator(metricName=\"weightedRecall\")\n",
        "print(\"Accuracy on Test Dataset = %g\" % accuracy_evaluator.evaluate(prediction_and_labels))\n",
        "print(\"Precision on Test Dataset = %g\" % precision_evaluator.evaluate(prediction_and_labels))\n",
        "print(\"Recall on Test Dataset = %g\" % recall_evaluator.evaluate(prediction_and_labels))"
      ]
    },
    {
      "cell_type": "code",
      "execution_count": 12,
      "metadata": {
        "colab": {
          "base_uri": "https://localhost:8080/"
        },
        "id": "qc1iTHmF9DpC",
        "outputId": "60488f48-e4b4-48ca-b48e-bf6711ad14d5"
      },
      "outputs": [
        {
          "output_type": "stream",
          "name": "stdout",
          "text": [
            "New Accuracy on Test Dataset = 0.640773\n"
          ]
        }
      ],
      "source": [
        "# (9) To improve the accuracy of our model, let us increase the size of the Hidden Layers\n",
        "new_layers = [16, 16, 12, 26]\n",
        "new_multilayer_perceptron_classifier = MultilayerPerceptronClassifier(maxIter=400, layers=new_layers, blockSize=128, seed=1234)\n",
        "new_multilayer_perceptron_classifier_model = new_multilayer_perceptron_classifier.fit(train_df)\n",
        "new_test_predictions_df = new_multilayer_perceptron_classifier_model.transform(test_df)\n",
        "print(\"New Accuracy on Test Dataset = %g\" % accuracy_evaluator.evaluate(new_test_predictions_df.select(\"prediction\", \"label\")))"
      ]
    },
    {
      "cell_type": "code",
      "execution_count": null,
      "metadata": {
        "id": "asF0UID_9DpD"
      },
      "outputs": [],
      "source": [
        "# (10) Stop the Spark Context\n",
        "spark.stop()"
      ]
    }
  ],
  "metadata": {
    "kernelspec": {
      "display_name": "Python 3",
      "language": "python",
      "name": "python3"
    },
    "language_info": {
      "codemirror_mode": {
        "name": "ipython",
        "version": 3
      },
      "file_extension": ".py",
      "mimetype": "text/x-python",
      "name": "python",
      "nbconvert_exporter": "python",
      "pygments_lexer": "ipython3",
      "version": "3.6.5"
    },
    "colab": {
      "provenance": []
    }
  },
  "nbformat": 4,
  "nbformat_minor": 0
}