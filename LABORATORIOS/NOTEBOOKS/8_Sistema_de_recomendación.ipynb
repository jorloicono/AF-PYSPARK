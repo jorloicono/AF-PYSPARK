{
  "nbformat": 4,
  "nbformat_minor": 0,
  "metadata": {
    "colab": {
      "provenance": []
    },
    "kernelspec": {
      "name": "python3",
      "display_name": "Python 3"
    },
    "language_info": {
      "name": "python"
    }
  },
  "cells": [
    {
      "cell_type": "code",
      "execution_count": 1,
      "metadata": {
        "colab": {
          "base_uri": "https://localhost:8080/",
          "height": 577
        },
        "id": "WXIXjO6lYsYW",
        "outputId": "ad7570c6-8e61-4d6d-b4f9-2c2b37bc2eec"
      },
      "outputs": [
        {
          "output_type": "stream",
          "name": "stdout",
          "text": [
            "Looking in indexes: https://pypi.org/simple, https://us-python.pkg.dev/colab-wheels/public/simple/\n",
            "Collecting pyspark\n",
            "  Downloading pyspark-3.3.2.tar.gz (281.4 MB)\n",
            "\u001b[2K     \u001b[90m━━━━━━━━━━━━━━━━━━━━━━━━━━━━━━━━━━━━━━━\u001b[0m \u001b[32m281.4/281.4 MB\u001b[0m \u001b[31m5.0 MB/s\u001b[0m eta \u001b[36m0:00:00\u001b[0m\n",
            "\u001b[?25h  Preparing metadata (setup.py) ... \u001b[?25l\u001b[?25hdone\n",
            "Collecting py4j==0.10.9.5\n",
            "  Downloading py4j-0.10.9.5-py2.py3-none-any.whl (199 kB)\n",
            "\u001b[2K     \u001b[90m━━━━━━━━━━━━━━━━━━━━━━━━━━━━━━━━━━━━━━\u001b[0m \u001b[32m199.7/199.7 KB\u001b[0m \u001b[31m13.0 MB/s\u001b[0m eta \u001b[36m0:00:00\u001b[0m\n",
            "\u001b[?25hBuilding wheels for collected packages: pyspark\n",
            "  Building wheel for pyspark (setup.py) ... \u001b[?25l\u001b[?25hdone\n",
            "  Created wheel for pyspark: filename=pyspark-3.3.2-py2.py3-none-any.whl size=281824025 sha256=1ddb959074f9416b744c9d81099e2dd1b8eb5ac56d6e1a6b35cb3a023e3d03d0\n",
            "  Stored in directory: /root/.cache/pip/wheels/6c/e3/9b/0525ce8a69478916513509d43693511463c6468db0de237c86\n",
            "Successfully built pyspark\n",
            "Installing collected packages: py4j, pyspark\n",
            "Successfully installed py4j-0.10.9.5 pyspark-3.3.2\n",
            "Looking in indexes: https://pypi.org/simple, https://us-python.pkg.dev/colab-wheels/public/simple/\n",
            "Collecting findspark\n",
            "  Downloading findspark-2.0.1-py2.py3-none-any.whl (4.4 kB)\n",
            "Installing collected packages: findspark\n",
            "Successfully installed findspark-2.0.1\n"
          ]
        },
        {
          "output_type": "execute_result",
          "data": {
            "text/plain": [
              "<pyspark.sql.session.SparkSession at 0x7f675abfeac0>"
            ],
            "text/html": [
              "\n",
              "            <div>\n",
              "                <p><b>SparkSession - in-memory</b></p>\n",
              "                \n",
              "        <div>\n",
              "            <p><b>SparkContext</b></p>\n",
              "\n",
              "            <p><a href=\"http://9eac4db668ae:4040\">Spark UI</a></p>\n",
              "\n",
              "            <dl>\n",
              "              <dt>Version</dt>\n",
              "                <dd><code>v3.3.2</code></dd>\n",
              "              <dt>Master</dt>\n",
              "                <dd><code>local[*]</code></dd>\n",
              "              <dt>AppName</dt>\n",
              "                <dd><code>pyspark-shell</code></dd>\n",
              "            </dl>\n",
              "        </div>\n",
              "        \n",
              "            </div>\n",
              "        "
            ]
          },
          "metadata": {},
          "execution_count": 1
        }
      ],
      "source": [
        "!pip install pyspark\n",
        "!pip install findspark\n",
        "\n",
        "# Import SparkSession\n",
        "from pyspark.sql import SparkSession\n",
        "\n",
        "# Create a Spark Session\n",
        "spark = SparkSession.builder.master(\"local[*]\").config(\"spark.jars.packages\", \"graphframes:graphframes:0.7.0-spark2.4-s_2.11\").getOrCreate()\n",
        "\n",
        "# Check Spark Session Information\n",
        "spark"
      ]
    },
    {
      "cell_type": "code",
      "source": [
        "# (1) Import the required Python dependencies\n",
        "import pandas as pd\n",
        "import numpy as np\n",
        "import matplotlib.pyplot as plt\n",
        "\n",
        "import findspark\n",
        "findspark.init()\n",
        "from pyspark import SparkContext, SparkConf\n",
        "from pyspark.sql import SQLContext\n",
        "from pyspark.ml.feature import VectorAssembler\n",
        "from pyspark.ml.feature import StandardScaler\n",
        "from pyspark.ml.feature import StringIndexer\n",
        "from pyspark.ml.feature import PCA\n",
        "from pyspark.ml.linalg import Vectors\n",
        "from pyspark.ml.linalg import DenseVector\n",
        "from pyspark.mllib.linalg.distributed import RowMatrix"
      ],
      "metadata": {
        "id": "iMdYqsUNYvGM"
      },
      "execution_count": 2,
      "outputs": []
    },
    {
      "cell_type": "code",
      "source": [
        "from pyspark.ml.evaluation import RegressionEvaluator\n",
        "from pyspark.ml.recommendation import ALS\n",
        "from pyspark.sql import Row\n",
        "\n",
        "lines = spark.read.text(\"/content/sample_movielens_ratings.txt\").rdd\n",
        "parts = lines.map(lambda row: row.value.split(\"::\"))\n",
        "ratingsRDD = parts.map(lambda p: Row(userId=int(p[0]), movieId=int(p[1]),\n",
        "                                     rating=float(p[2]), timestamp=int(p[3])))\n",
        "ratings = spark.createDataFrame(ratingsRDD)\n",
        "(training, test) = ratings.randomSplit([0.8, 0.2])\n",
        "\n",
        "# Build the recommendation model using ALS on the training data\n",
        "# Note we set cold start strategy to 'drop' to ensure we don't get NaN evaluation metrics\n",
        "als = ALS(maxIter=5, regParam=0.01, userCol=\"userId\", itemCol=\"movieId\", ratingCol=\"rating\",\n",
        "          coldStartStrategy=\"drop\")\n",
        "model = als.fit(training)\n",
        "\n",
        "# Evaluate the model by computing the RMSE on the test data\n",
        "predictions = model.transform(test)\n",
        "evaluator = RegressionEvaluator(metricName=\"rmse\", labelCol=\"rating\",\n",
        "                                predictionCol=\"prediction\")\n",
        "rmse = evaluator.evaluate(predictions)\n",
        "print(\"Root-mean-square error = \" + str(rmse))\n",
        "\n",
        "# Generate top 10 movie recommendations for each user\n",
        "userRecs = model.recommendForAllUsers(10)\n",
        "# Generate top 10 user recommendations for each movie\n",
        "movieRecs = model.recommendForAllItems(10)\n",
        "\n",
        "# Generate top 10 movie recommendations for a specified set of users\n",
        "users = ratings.select(als.getUserCol()).distinct().limit(3)\n",
        "userSubsetRecs = model.recommendForUserSubset(users, 10)\n",
        "# Generate top 10 user recommendations for a specified set of movies\n",
        "movies = ratings.select(als.getItemCol()).distinct().limit(3)\n",
        "movieSubSetRecs = model.recommendForItemSubset(movies, 10)\n",
        "\n",
        "# $example off$\n",
        "userRecs.show()\n",
        "movieRecs.show()\n",
        "userSubsetRecs.show()\n",
        "movieSubSetRecs.show()\n"
      ],
      "metadata": {
        "colab": {
          "base_uri": "https://localhost:8080/"
        },
        "id": "2E9wwHNFYxH_",
        "outputId": "e331dcbf-4d2d-4034-de6e-4cbfd354d3d8"
      },
      "execution_count": 8,
      "outputs": [
        {
          "output_type": "stream",
          "name": "stdout",
          "text": [
            "Root-mean-square error = 1.7399622397998498\n",
            "+------+--------------------+\n",
            "|userId|     recommendations|\n",
            "+------+--------------------+\n",
            "|    20|[{68, 5.7477283},...|\n",
            "|    10|[{4, 3.966461}, {...|\n",
            "|     0|[{92, 3.9999123},...|\n",
            "|     1|[{68, 4.0175295},...|\n",
            "|    21|[{53, 5.157362}, ...|\n",
            "|    11|[{30, 5.0815372},...|\n",
            "|    12|[{49, 5.3215427},...|\n",
            "|    22|[{46, 5.8628254},...|\n",
            "|     2|[{8, 5.032946}, {...|\n",
            "|    13|[{85, 4.471457}, ...|\n",
            "|     3|[{32, 6.136252}, ...|\n",
            "|    23|[{80, 5.5843596},...|\n",
            "|     4|[{76, 4.4393196},...|\n",
            "|    24|[{8, 5.2096453}, ...|\n",
            "|    14|[{52, 4.9376183},...|\n",
            "|     5|[{80, 5.138089}, ...|\n",
            "|    15|[{46, 4.8454776},...|\n",
            "|    25|[{46, 4.4676137},...|\n",
            "|    26|[{46, 7.2310376},...|\n",
            "|     6|[{52, 4.7155437},...|\n",
            "+------+--------------------+\n",
            "only showing top 20 rows\n",
            "\n",
            "+-------+--------------------+\n",
            "|movieId|     recommendations|\n",
            "+-------+--------------------+\n",
            "|     20|[{17, 4.7682796},...|\n",
            "|     40|[{10, 3.9430225},...|\n",
            "|     10|[{28, 4.9843636},...|\n",
            "|     50|[{23, 3.8127913},...|\n",
            "|     80|[{23, 5.5843596},...|\n",
            "|     70|[{2, 3.4424195}, ...|\n",
            "|     60|[{24, 4.2536707},...|\n",
            "|     90|[{3, 5.4766207}, ...|\n",
            "|     30|[{11, 5.0815372},...|\n",
            "|      0|[{16, 2.9418504},...|\n",
            "|     31|[{21, 4.004508}, ...|\n",
            "|     81|[{28, 4.4567313},...|\n",
            "|     91|[{28, 4.0570774},...|\n",
            "|      1|[{12, 4.143377}, ...|\n",
            "|     41|[{4, 3.9560673}, ...|\n",
            "|     61|[{25, 2.6026602},...|\n",
            "|     51|[{16, 5.0586953},...|\n",
            "|     21|[{26, 3.059423}, ...|\n",
            "|     11|[{18, 3.9482129},...|\n",
            "|     71|[{25, 3.6984985},...|\n",
            "+-------+--------------------+\n",
            "only showing top 20 rows\n",
            "\n",
            "+------+--------------------+\n",
            "|userId|     recommendations|\n",
            "+------+--------------------+\n",
            "|    26|[{46, 7.2310376},...|\n",
            "|    19|[{17, 4.3036036},...|\n",
            "|    29|[{46, 5.0329003},...|\n",
            "+------+--------------------+\n",
            "\n",
            "+-------+--------------------+\n",
            "|movieId|     recommendations|\n",
            "+-------+--------------------+\n",
            "|     65|[{23, 4.7253385},...|\n",
            "|     26|[{26, 3.9868689},...|\n",
            "|     29|[{21, 5.049394}, ...|\n",
            "+-------+--------------------+\n",
            "\n"
          ]
        }
      ]
    }
  ]
}