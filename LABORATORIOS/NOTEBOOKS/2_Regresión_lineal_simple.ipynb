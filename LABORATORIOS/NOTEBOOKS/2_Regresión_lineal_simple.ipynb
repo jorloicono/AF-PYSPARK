{
  "cells": [
    {
      "cell_type": "code",
      "source": [
        "!pip install pyspark\n",
        "!pip install findspark\n",
        "\n",
        "# Import SparkSession\n",
        "from pyspark.sql import SparkSession\n",
        "\n",
        "# Create a Spark Session\n",
        "spark = SparkSession.builder.master(\"local[*]\").getOrCreate()\n",
        "\n",
        "# Check Spark Session Information\n",
        "spark"
      ],
      "metadata": {
        "colab": {
          "base_uri": "https://localhost:8080/",
          "height": 577
        },
        "id": "sj_uo43k9-PI",
        "outputId": "dcae0367-ba28-4c91-fa07-a9246888d6a9"
      },
      "execution_count": 2,
      "outputs": [
        {
          "output_type": "stream",
          "name": "stdout",
          "text": [
            "Looking in indexes: https://pypi.org/simple, https://us-python.pkg.dev/colab-wheels/public/simple/\n",
            "Collecting pyspark\n",
            "  Downloading pyspark-3.3.2.tar.gz (281.4 MB)\n",
            "\u001b[2K     \u001b[90m━━━━━━━━━━━━━━━━━━━━━━━━━━━━━━━━━━━━━━━\u001b[0m \u001b[32m281.4/281.4 MB\u001b[0m \u001b[31m5.5 MB/s\u001b[0m eta \u001b[36m0:00:00\u001b[0m\n",
            "\u001b[?25h  Preparing metadata (setup.py) ... \u001b[?25l\u001b[?25hdone\n",
            "Collecting py4j==0.10.9.5\n",
            "  Downloading py4j-0.10.9.5-py2.py3-none-any.whl (199 kB)\n",
            "\u001b[2K     \u001b[90m━━━━━━━━━━━━━━━━━━━━━━━━━━━━━━━━━━━━━━\u001b[0m \u001b[32m199.7/199.7 KB\u001b[0m \u001b[31m20.3 MB/s\u001b[0m eta \u001b[36m0:00:00\u001b[0m\n",
            "\u001b[?25hBuilding wheels for collected packages: pyspark\n",
            "  Building wheel for pyspark (setup.py) ... \u001b[?25l\u001b[?25hdone\n",
            "  Created wheel for pyspark: filename=pyspark-3.3.2-py2.py3-none-any.whl size=281824025 sha256=66d7671204460eb5bfc4ac047e23ae0c13130a9176a5f63c86f48fa270f60dfd\n",
            "  Stored in directory: /root/.cache/pip/wheels/6c/e3/9b/0525ce8a69478916513509d43693511463c6468db0de237c86\n",
            "Successfully built pyspark\n",
            "Installing collected packages: py4j, pyspark\n",
            "Successfully installed py4j-0.10.9.5 pyspark-3.3.2\n",
            "Looking in indexes: https://pypi.org/simple, https://us-python.pkg.dev/colab-wheels/public/simple/\n",
            "Collecting findspark\n",
            "  Downloading findspark-2.0.1-py2.py3-none-any.whl (4.4 kB)\n",
            "Installing collected packages: findspark\n",
            "Successfully installed findspark-2.0.1\n"
          ]
        },
        {
          "output_type": "execute_result",
          "data": {
            "text/plain": [
              "<pyspark.sql.session.SparkSession at 0x7f6392dd1fa0>"
            ],
            "text/html": [
              "\n",
              "            <div>\n",
              "                <p><b>SparkSession - in-memory</b></p>\n",
              "                \n",
              "        <div>\n",
              "            <p><b>SparkContext</b></p>\n",
              "\n",
              "            <p><a href=\"http://d01a0be335e1:4040\">Spark UI</a></p>\n",
              "\n",
              "            <dl>\n",
              "              <dt>Version</dt>\n",
              "                <dd><code>v3.3.2</code></dd>\n",
              "              <dt>Master</dt>\n",
              "                <dd><code>local[*]</code></dd>\n",
              "              <dt>AppName</dt>\n",
              "                <dd><code>pyspark-shell</code></dd>\n",
              "            </dl>\n",
              "        </div>\n",
              "        \n",
              "            </div>\n",
              "        "
            ]
          },
          "metadata": {},
          "execution_count": 2
        }
      ]
    },
    {
      "cell_type": "code",
      "execution_count": 3,
      "metadata": {
        "id": "1cn4HlTm9l49"
      },
      "outputs": [],
      "source": [
        "# (1) Import the required Python dependencies\n",
        "%matplotlib inline\n",
        "import matplotlib.pyplot as plt\n",
        "import pandas as pd\n",
        "import findspark\n",
        "findspark.init()\n",
        "from pyspark import SparkContext, SparkConf\n",
        "from pyspark.sql import SQLContext\n",
        "from pyspark.ml.feature import VectorAssembler\n",
        "from pyspark.ml.regression import LinearRegression\n",
        "from pyspark.ml.evaluation import RegressionEvaluator"
      ]
    },
    {
      "cell_type": "code",
      "execution_count": 4,
      "metadata": {
        "colab": {
          "base_uri": "https://localhost:8080/",
          "height": 206
        },
        "id": "G4VMisOP9l5D",
        "outputId": "6cb4d848-dc3f-4226-b68f-852a6feaeccf"
      },
      "outputs": [
        {
          "output_type": "execute_result",
          "data": {
            "text/plain": [
              "   instant      dteday  season  yr  mnth  holiday  weekday  workingday  \\\n",
              "0        1  2011-01-01       1   0     1        0        6           0   \n",
              "1        2  2011-01-02       1   0     1        0        0           0   \n",
              "2        3  2011-01-03       1   0     1        0        1           1   \n",
              "3        4  2011-01-04       1   0     1        0        2           1   \n",
              "4        5  2011-01-05       1   0     1        0        3           1   \n",
              "\n",
              "   weathersit      temp     atemp       hum  windspeed  casual  registered  \\\n",
              "0           2  0.344167  0.363625  0.805833   0.160446     331         654   \n",
              "1           2  0.363478  0.353739  0.696087   0.248539     131         670   \n",
              "2           1  0.196364  0.189405  0.437273   0.248309     120        1229   \n",
              "3           1  0.200000  0.212122  0.590435   0.160296     108        1454   \n",
              "4           1  0.226957  0.229270  0.436957   0.186900      82        1518   \n",
              "\n",
              "    cnt  \n",
              "0   985  \n",
              "1   801  \n",
              "2  1349  \n",
              "3  1562  \n",
              "4  1600  "
            ],
            "text/html": [
              "\n",
              "  <div id=\"df-9bd7f196-74c8-4445-bea4-05aae5986f56\">\n",
              "    <div class=\"colab-df-container\">\n",
              "      <div>\n",
              "<style scoped>\n",
              "    .dataframe tbody tr th:only-of-type {\n",
              "        vertical-align: middle;\n",
              "    }\n",
              "\n",
              "    .dataframe tbody tr th {\n",
              "        vertical-align: top;\n",
              "    }\n",
              "\n",
              "    .dataframe thead th {\n",
              "        text-align: right;\n",
              "    }\n",
              "</style>\n",
              "<table border=\"1\" class=\"dataframe\">\n",
              "  <thead>\n",
              "    <tr style=\"text-align: right;\">\n",
              "      <th></th>\n",
              "      <th>instant</th>\n",
              "      <th>dteday</th>\n",
              "      <th>season</th>\n",
              "      <th>yr</th>\n",
              "      <th>mnth</th>\n",
              "      <th>holiday</th>\n",
              "      <th>weekday</th>\n",
              "      <th>workingday</th>\n",
              "      <th>weathersit</th>\n",
              "      <th>temp</th>\n",
              "      <th>atemp</th>\n",
              "      <th>hum</th>\n",
              "      <th>windspeed</th>\n",
              "      <th>casual</th>\n",
              "      <th>registered</th>\n",
              "      <th>cnt</th>\n",
              "    </tr>\n",
              "  </thead>\n",
              "  <tbody>\n",
              "    <tr>\n",
              "      <th>0</th>\n",
              "      <td>1</td>\n",
              "      <td>2011-01-01</td>\n",
              "      <td>1</td>\n",
              "      <td>0</td>\n",
              "      <td>1</td>\n",
              "      <td>0</td>\n",
              "      <td>6</td>\n",
              "      <td>0</td>\n",
              "      <td>2</td>\n",
              "      <td>0.344167</td>\n",
              "      <td>0.363625</td>\n",
              "      <td>0.805833</td>\n",
              "      <td>0.160446</td>\n",
              "      <td>331</td>\n",
              "      <td>654</td>\n",
              "      <td>985</td>\n",
              "    </tr>\n",
              "    <tr>\n",
              "      <th>1</th>\n",
              "      <td>2</td>\n",
              "      <td>2011-01-02</td>\n",
              "      <td>1</td>\n",
              "      <td>0</td>\n",
              "      <td>1</td>\n",
              "      <td>0</td>\n",
              "      <td>0</td>\n",
              "      <td>0</td>\n",
              "      <td>2</td>\n",
              "      <td>0.363478</td>\n",
              "      <td>0.353739</td>\n",
              "      <td>0.696087</td>\n",
              "      <td>0.248539</td>\n",
              "      <td>131</td>\n",
              "      <td>670</td>\n",
              "      <td>801</td>\n",
              "    </tr>\n",
              "    <tr>\n",
              "      <th>2</th>\n",
              "      <td>3</td>\n",
              "      <td>2011-01-03</td>\n",
              "      <td>1</td>\n",
              "      <td>0</td>\n",
              "      <td>1</td>\n",
              "      <td>0</td>\n",
              "      <td>1</td>\n",
              "      <td>1</td>\n",
              "      <td>1</td>\n",
              "      <td>0.196364</td>\n",
              "      <td>0.189405</td>\n",
              "      <td>0.437273</td>\n",
              "      <td>0.248309</td>\n",
              "      <td>120</td>\n",
              "      <td>1229</td>\n",
              "      <td>1349</td>\n",
              "    </tr>\n",
              "    <tr>\n",
              "      <th>3</th>\n",
              "      <td>4</td>\n",
              "      <td>2011-01-04</td>\n",
              "      <td>1</td>\n",
              "      <td>0</td>\n",
              "      <td>1</td>\n",
              "      <td>0</td>\n",
              "      <td>2</td>\n",
              "      <td>1</td>\n",
              "      <td>1</td>\n",
              "      <td>0.200000</td>\n",
              "      <td>0.212122</td>\n",
              "      <td>0.590435</td>\n",
              "      <td>0.160296</td>\n",
              "      <td>108</td>\n",
              "      <td>1454</td>\n",
              "      <td>1562</td>\n",
              "    </tr>\n",
              "    <tr>\n",
              "      <th>4</th>\n",
              "      <td>5</td>\n",
              "      <td>2011-01-05</td>\n",
              "      <td>1</td>\n",
              "      <td>0</td>\n",
              "      <td>1</td>\n",
              "      <td>0</td>\n",
              "      <td>3</td>\n",
              "      <td>1</td>\n",
              "      <td>1</td>\n",
              "      <td>0.226957</td>\n",
              "      <td>0.229270</td>\n",
              "      <td>0.436957</td>\n",
              "      <td>0.186900</td>\n",
              "      <td>82</td>\n",
              "      <td>1518</td>\n",
              "      <td>1600</td>\n",
              "    </tr>\n",
              "  </tbody>\n",
              "</table>\n",
              "</div>\n",
              "      <button class=\"colab-df-convert\" onclick=\"convertToInteractive('df-9bd7f196-74c8-4445-bea4-05aae5986f56')\"\n",
              "              title=\"Convert this dataframe to an interactive table.\"\n",
              "              style=\"display:none;\">\n",
              "        \n",
              "  <svg xmlns=\"http://www.w3.org/2000/svg\" height=\"24px\"viewBox=\"0 0 24 24\"\n",
              "       width=\"24px\">\n",
              "    <path d=\"M0 0h24v24H0V0z\" fill=\"none\"/>\n",
              "    <path d=\"M18.56 5.44l.94 2.06.94-2.06 2.06-.94-2.06-.94-.94-2.06-.94 2.06-2.06.94zm-11 1L8.5 8.5l.94-2.06 2.06-.94-2.06-.94L8.5 2.5l-.94 2.06-2.06.94zm10 10l.94 2.06.94-2.06 2.06-.94-2.06-.94-.94-2.06-.94 2.06-2.06.94z\"/><path d=\"M17.41 7.96l-1.37-1.37c-.4-.4-.92-.59-1.43-.59-.52 0-1.04.2-1.43.59L10.3 9.45l-7.72 7.72c-.78.78-.78 2.05 0 2.83L4 21.41c.39.39.9.59 1.41.59.51 0 1.02-.2 1.41-.59l7.78-7.78 2.81-2.81c.8-.78.8-2.07 0-2.86zM5.41 20L4 18.59l7.72-7.72 1.47 1.35L5.41 20z\"/>\n",
              "  </svg>\n",
              "      </button>\n",
              "      \n",
              "  <style>\n",
              "    .colab-df-container {\n",
              "      display:flex;\n",
              "      flex-wrap:wrap;\n",
              "      gap: 12px;\n",
              "    }\n",
              "\n",
              "    .colab-df-convert {\n",
              "      background-color: #E8F0FE;\n",
              "      border: none;\n",
              "      border-radius: 50%;\n",
              "      cursor: pointer;\n",
              "      display: none;\n",
              "      fill: #1967D2;\n",
              "      height: 32px;\n",
              "      padding: 0 0 0 0;\n",
              "      width: 32px;\n",
              "    }\n",
              "\n",
              "    .colab-df-convert:hover {\n",
              "      background-color: #E2EBFA;\n",
              "      box-shadow: 0px 1px 2px rgba(60, 64, 67, 0.3), 0px 1px 3px 1px rgba(60, 64, 67, 0.15);\n",
              "      fill: #174EA6;\n",
              "    }\n",
              "\n",
              "    [theme=dark] .colab-df-convert {\n",
              "      background-color: #3B4455;\n",
              "      fill: #D2E3FC;\n",
              "    }\n",
              "\n",
              "    [theme=dark] .colab-df-convert:hover {\n",
              "      background-color: #434B5C;\n",
              "      box-shadow: 0px 1px 3px 1px rgba(0, 0, 0, 0.15);\n",
              "      filter: drop-shadow(0px 1px 2px rgba(0, 0, 0, 0.3));\n",
              "      fill: #FFFFFF;\n",
              "    }\n",
              "  </style>\n",
              "\n",
              "      <script>\n",
              "        const buttonEl =\n",
              "          document.querySelector('#df-9bd7f196-74c8-4445-bea4-05aae5986f56 button.colab-df-convert');\n",
              "        buttonEl.style.display =\n",
              "          google.colab.kernel.accessAllowed ? 'block' : 'none';\n",
              "\n",
              "        async function convertToInteractive(key) {\n",
              "          const element = document.querySelector('#df-9bd7f196-74c8-4445-bea4-05aae5986f56');\n",
              "          const dataTable =\n",
              "            await google.colab.kernel.invokeFunction('convertToInteractive',\n",
              "                                                     [key], {});\n",
              "          if (!dataTable) return;\n",
              "\n",
              "          const docLinkHtml = 'Like what you see? Visit the ' +\n",
              "            '<a target=\"_blank\" href=https://colab.research.google.com/notebooks/data_table.ipynb>data table notebook</a>'\n",
              "            + ' to learn more about interactive tables.';\n",
              "          element.innerHTML = '';\n",
              "          dataTable['output_type'] = 'display_data';\n",
              "          await google.colab.output.renderOutput(dataTable, element);\n",
              "          const docLink = document.createElement('div');\n",
              "          docLink.innerHTML = docLinkHtml;\n",
              "          element.appendChild(docLink);\n",
              "        }\n",
              "      </script>\n",
              "    </div>\n",
              "  </div>\n",
              "  "
            ]
          },
          "metadata": {},
          "execution_count": 4
        }
      ],
      "source": [
        "# (2) Load the Bike Sharing dataset (data/bike-sharing-data/day.csv) into a Pandas DataFrame\n",
        "bike_sharing_raw_df = pd.read_csv('/content/day.csv', \n",
        "                                 delimiter = ',')\n",
        "bike_sharing_raw_df.head()"
      ]
    },
    {
      "cell_type": "code",
      "execution_count": 5,
      "metadata": {
        "colab": {
          "base_uri": "https://localhost:8080/",
          "height": 297
        },
        "id": "ESIaAG3_9l5G",
        "outputId": "eb1817b4-b2b1-423b-be2c-cb1a2f67868f"
      },
      "outputs": [
        {
          "output_type": "execute_result",
          "data": {
            "text/plain": [
              "<AxesSubplot:xlabel='temp', ylabel='cnt'>"
            ]
          },
          "metadata": {},
          "execution_count": 5
        },
        {
          "output_type": "display_data",
          "data": {
            "text/plain": [
              "<Figure size 432x288 with 1 Axes>"
            ],
            "image/png": "[encoded data removed]"
          },
          "metadata": {
            "needs_background": "light"
          }
        }
      ],
      "source": [
        "# (3.1) Raw Data Exploration - Plot normalized temperature (celsius) against count of total rental bikes\n",
        "bike_sharing_raw_df.plot.scatter(x='temp', y='cnt')"
      ]
    },
    {
      "cell_type": "code",
      "execution_count": 6,
      "metadata": {
        "colab": {
          "base_uri": "https://localhost:8080/",
          "height": 297
        },
        "id": "_V2s3Uuo9l5H",
        "outputId": "b4bf18d4-789a-4fc4-9ad4-066835ddfa28"
      },
      "outputs": [
        {
          "output_type": "execute_result",
          "data": {
            "text/plain": [
              "<AxesSubplot:xlabel='atemp', ylabel='cnt'>"
            ]
          },
          "metadata": {},
          "execution_count": 6
        },
        {
          "output_type": "display_data",
          "data": {
            "text/plain": [
              "<Figure size 432x288 with 1 Axes>"
            ],
            "image/png": "[encoded data removed]"
          },
          "metadata": {
            "needs_background": "light"
          }
        }
      ],
      "source": [
        "# (3.2) Raw Data Exploration - Plot normalized feeling temperature (celsius) against count of total rental bikes\n",
        "bike_sharing_raw_df.plot.scatter(x='atemp', y='cnt')"
      ]
    },
    {
      "cell_type": "code",
      "execution_count": 7,
      "metadata": {
        "colab": {
          "base_uri": "https://localhost:8080/",
          "height": 297
        },
        "id": "8LFAe8f39l5J",
        "outputId": "decd5a2d-e494-4204-85c9-26f42049376e"
      },
      "outputs": [
        {
          "output_type": "execute_result",
          "data": {
            "text/plain": [
              "<AxesSubplot:xlabel='hum', ylabel='cnt'>"
            ]
          },
          "metadata": {},
          "execution_count": 7
        },
        {
          "output_type": "display_data",
          "data": {
            "text/plain": [
              "<Figure size 432x288 with 1 Axes>"
            ],
            "image/png": "[encoded data removed]"
          },
          "metadata": {
            "needs_background": "light"
          }
        }
      ],
      "source": [
        "# (3.3) Raw Data Exploration - Plot normalized humidity against count of total rental bikes\n",
        "bike_sharing_raw_df.plot.scatter(x='hum', y='cnt')"
      ]
    },
    {
      "cell_type": "code",
      "execution_count": null,
      "metadata": {
        "id": "yd8cL_A49l5K",
        "outputId": "d1512851-9399-4314-b2d2-2fac9827c4b2"
      },
      "outputs": [
        {
          "data": {
            "text/plain": [
              "<matplotlib.axes._subplots.AxesSubplot at 0x7fd4e15c3ef0>"
            ]
          },
          "execution_count": 98,
          "metadata": {},
          "output_type": "execute_result"
        },
        {
          "data": {
            "image/png": "[encoded data removed]",
            "text/plain": [
              "<Figure size 432x288 with 1 Axes>"
            ]
          },
          "metadata": {},
          "output_type": "display_data"
        }
      ],
      "source": [
        "# (3.4) Raw Data Exploration - Plot normalized wind speed against count of total rental bikes\n",
        "bike_sharing_raw_df.plot.scatter(x='windspeed', y='cnt')"
      ]
    },
    {
      "cell_type": "code",
      "execution_count": 10,
      "metadata": {
        "colab": {
          "base_uri": "https://localhost:8080/"
        },
        "id": "ex_i1PFH9l5M",
        "outputId": "1b96d4b8-2100-4a97-f2df-0d6564e6aefc"
      },
      "outputs": [
        {
          "output_type": "stream",
          "name": "stderr",
          "text": [
            "/usr/local/lib/python3.9/dist-packages/pyspark/sql/context.py:112: FutureWarning: Deprecated in 3.0.0. Use SparkSession.builder.getOrCreate() instead.\n",
            "  warnings.warn(\n"
          ]
        }
      ],
      "source": [
        "# (4) Instantiate a Spark Context\n",
        "\n",
        "sqlContext = SQLContext(spark)"
      ]
    },
    {
      "cell_type": "code",
      "execution_count": 12,
      "metadata": {
        "colab": {
          "base_uri": "https://localhost:8080/"
        },
        "id": "dveWXRRk9l5N",
        "outputId": "e93da73b-5541-486f-963b-3690e6d2ff8c"
      },
      "outputs": [
        {
          "output_type": "stream",
          "name": "stdout",
          "text": [
            "root\n",
            " |-- instant: integer (nullable = true)\n",
            " |-- dteday: timestamp (nullable = true)\n",
            " |-- season: integer (nullable = true)\n",
            " |-- yr: integer (nullable = true)\n",
            " |-- mnth: integer (nullable = true)\n",
            " |-- holiday: integer (nullable = true)\n",
            " |-- weekday: integer (nullable = true)\n",
            " |-- workingday: integer (nullable = true)\n",
            " |-- weathersit: integer (nullable = true)\n",
            " |-- temp: double (nullable = true)\n",
            " |-- atemp: double (nullable = true)\n",
            " |-- hum: double (nullable = true)\n",
            " |-- windspeed: double (nullable = true)\n",
            " |-- casual: integer (nullable = true)\n",
            " |-- registered: integer (nullable = true)\n",
            " |-- cnt: integer (nullable = true)\n",
            "\n"
          ]
        }
      ],
      "source": [
        "# (5) Load the Bike Sharing dataset into a Spark DataFrame\n",
        "bike_sharing_df = sqlContext.read.format('com.databricks.spark.csv').options(header = 'true', inferschema = 'true').load('/content/day.csv')\n",
        "bike_sharing_df.head(10)\n",
        "bike_sharing_df.printSchema()"
      ]
    },
    {
      "cell_type": "code",
      "execution_count": 13,
      "metadata": {
        "colab": {
          "base_uri": "https://localhost:8080/",
          "height": 551
        },
        "id": "7SGyaFMC9l5Z",
        "outputId": "ba4d5d8a-8a14-4c7a-d542-6cf5ce68b82a"
      },
      "outputs": [
        {
          "output_type": "execute_result",
          "data": {
            "text/plain": [
              "                0                     1                    2          3  \\\n",
              "summary     count                  mean               stddev        min   \n",
              "instant       731                 366.0   211.16581162678773          1   \n",
              "season        731     2.496580027359781   1.1108070927726252          1   \n",
              "yr            731    0.5006839945280438   0.5003418803818265          0   \n",
              "mnth          731     6.519835841313269    3.451912787256252          1   \n",
              "holiday       731  0.028727770177838577  0.16715474262247393          0   \n",
              "weekday       731     2.997264021887825    2.004786917944481          0   \n",
              "workingday    731    0.6839945280437757   0.4652333866777039          0   \n",
              "weathersit    731    1.3953488372093024   0.5448943419593665          1   \n",
              "temp          731   0.49538478850889184  0.18305099611148876  0.0591304   \n",
              "atemp         731   0.47435398864569067   0.1629611783863112  0.0790696   \n",
              "hum           731    0.6278940629274962    0.142429095138354        0.0   \n",
              "windspeed     731    0.1904862116279068  0.07749787068166944  0.0223917   \n",
              "casual        731     848.1764705882352    686.6224882846551          2   \n",
              "registered    731     3656.172366621067   1560.2563770194533         20   \n",
              "cnt           731    4504.3488372093025   1937.2114516187676         22   \n",
              "\n",
              "                   4  \n",
              "summary          max  \n",
              "instant          731  \n",
              "season             4  \n",
              "yr                 1  \n",
              "mnth              12  \n",
              "holiday            1  \n",
              "weekday            6  \n",
              "workingday         1  \n",
              "weathersit         3  \n",
              "temp        0.861667  \n",
              "atemp       0.840896  \n",
              "hum           0.9725  \n",
              "windspeed   0.507463  \n",
              "casual          3410  \n",
              "registered      6946  \n",
              "cnt             8714  "
            ],
            "text/html": [
              "\n",
              "  <div id=\"df-787fc6b0-5766-451d-861c-0c9b53e1e690\">\n",
              "    <div class=\"colab-df-container\">\n",
              "      <div>\n",
              "<style scoped>\n",
              "    .dataframe tbody tr th:only-of-type {\n",
              "        vertical-align: middle;\n",
              "    }\n",
              "\n",
              "    .dataframe tbody tr th {\n",
              "        vertical-align: top;\n",
              "    }\n",
              "\n",
              "    .dataframe thead th {\n",
              "        text-align: right;\n",
              "    }\n",
              "</style>\n",
              "<table border=\"1\" class=\"dataframe\">\n",
              "  <thead>\n",
              "    <tr style=\"text-align: right;\">\n",
              "      <th></th>\n",
              "      <th>0</th>\n",
              "      <th>1</th>\n",
              "      <th>2</th>\n",
              "      <th>3</th>\n",
              "      <th>4</th>\n",
              "    </tr>\n",
              "  </thead>\n",
              "  <tbody>\n",
              "    <tr>\n",
              "      <th>summary</th>\n",
              "      <td>count</td>\n",
              "      <td>mean</td>\n",
              "      <td>stddev</td>\n",
              "      <td>min</td>\n",
              "      <td>max</td>\n",
              "    </tr>\n",
              "    <tr>\n",
              "      <th>instant</th>\n",
              "      <td>731</td>\n",
              "      <td>366.0</td>\n",
              "      <td>211.16581162678773</td>\n",
              "      <td>1</td>\n",
              "      <td>731</td>\n",
              "    </tr>\n",
              "    <tr>\n",
              "      <th>season</th>\n",
              "      <td>731</td>\n",
              "      <td>2.496580027359781</td>\n",
              "      <td>1.1108070927726252</td>\n",
              "      <td>1</td>\n",
              "      <td>4</td>\n",
              "    </tr>\n",
              "    <tr>\n",
              "      <th>yr</th>\n",
              "      <td>731</td>\n",
              "      <td>0.5006839945280438</td>\n",
              "      <td>0.5003418803818265</td>\n",
              "      <td>0</td>\n",
              "      <td>1</td>\n",
              "    </tr>\n",
              "    <tr>\n",
              "      <th>mnth</th>\n",
              "      <td>731</td>\n",
              "      <td>6.519835841313269</td>\n",
              "      <td>3.451912787256252</td>\n",
              "      <td>1</td>\n",
              "      <td>12</td>\n",
              "    </tr>\n",
              "    <tr>\n",
              "      <th>holiday</th>\n",
              "      <td>731</td>\n",
              "      <td>0.028727770177838577</td>\n",
              "      <td>0.16715474262247393</td>\n",
              "      <td>0</td>\n",
              "      <td>1</td>\n",
              "    </tr>\n",
              "    <tr>\n",
              "      <th>weekday</th>\n",
              "      <td>731</td>\n",
              "      <td>2.997264021887825</td>\n",
              "      <td>2.004786917944481</td>\n",
              "      <td>0</td>\n",
              "      <td>6</td>\n",
              "    </tr>\n",
              "    <tr>\n",
              "      <th>workingday</th>\n",
              "      <td>731</td>\n",
              "      <td>0.6839945280437757</td>\n",
              "      <td>0.4652333866777039</td>\n",
              "      <td>0</td>\n",
              "      <td>1</td>\n",
              "    </tr>\n",
              "    <tr>\n",
              "      <th>weathersit</th>\n",
              "      <td>731</td>\n",
              "      <td>1.3953488372093024</td>\n",
              "      <td>0.5448943419593665</td>\n",
              "      <td>1</td>\n",
              "      <td>3</td>\n",
              "    </tr>\n",
              "    <tr>\n",
              "      <th>temp</th>\n",
              "      <td>731</td>\n",
              "      <td>0.49538478850889184</td>\n",
              "      <td>0.18305099611148876</td>\n",
              "      <td>0.0591304</td>\n",
              "      <td>0.861667</td>\n",
              "    </tr>\n",
              "    <tr>\n",
              "      <th>atemp</th>\n",
              "      <td>731</td>\n",
              "      <td>0.47435398864569067</td>\n",
              "      <td>0.1629611783863112</td>\n",
              "      <td>0.0790696</td>\n",
              "      <td>0.840896</td>\n",
              "    </tr>\n",
              "    <tr>\n",
              "      <th>hum</th>\n",
              "      <td>731</td>\n",
              "      <td>0.6278940629274962</td>\n",
              "      <td>0.142429095138354</td>\n",
              "      <td>0.0</td>\n",
              "      <td>0.9725</td>\n",
              "    </tr>\n",
              "    <tr>\n",
              "      <th>windspeed</th>\n",
              "      <td>731</td>\n",
              "      <td>0.1904862116279068</td>\n",
              "      <td>0.07749787068166944</td>\n",
              "      <td>0.0223917</td>\n",
              "      <td>0.507463</td>\n",
              "    </tr>\n",
              "    <tr>\n",
              "      <th>casual</th>\n",
              "      <td>731</td>\n",
              "      <td>848.1764705882352</td>\n",
              "      <td>686.6224882846551</td>\n",
              "      <td>2</td>\n",
              "      <td>3410</td>\n",
              "    </tr>\n",
              "    <tr>\n",
              "      <th>registered</th>\n",
              "      <td>731</td>\n",
              "      <td>3656.172366621067</td>\n",
              "      <td>1560.2563770194533</td>\n",
              "      <td>20</td>\n",
              "      <td>6946</td>\n",
              "    </tr>\n",
              "    <tr>\n",
              "      <th>cnt</th>\n",
              "      <td>731</td>\n",
              "      <td>4504.3488372093025</td>\n",
              "      <td>1937.2114516187676</td>\n",
              "      <td>22</td>\n",
              "      <td>8714</td>\n",
              "    </tr>\n",
              "  </tbody>\n",
              "</table>\n",
              "</div>\n",
              "      <button class=\"colab-df-convert\" onclick=\"convertToInteractive('df-787fc6b0-5766-451d-861c-0c9b53e1e690')\"\n",
              "              title=\"Convert this dataframe to an interactive table.\"\n",
              "              style=\"display:none;\">\n",
              "        \n",
              "  <svg xmlns=\"http://www.w3.org/2000/svg\" height=\"24px\"viewBox=\"0 0 24 24\"\n",
              "       width=\"24px\">\n",
              "    <path d=\"M0 0h24v24H0V0z\" fill=\"none\"/>\n",
              "    <path d=\"M18.56 5.44l.94 2.06.94-2.06 2.06-.94-2.06-.94-.94-2.06-.94 2.06-2.06.94zm-11 1L8.5 8.5l.94-2.06 2.06-.94-2.06-.94L8.5 2.5l-.94 2.06-2.06.94zm10 10l.94 2.06.94-2.06 2.06-.94-2.06-.94-.94-2.06-.94 2.06-2.06.94z\"/><path d=\"M17.41 7.96l-1.37-1.37c-.4-.4-.92-.59-1.43-.59-.52 0-1.04.2-1.43.59L10.3 9.45l-7.72 7.72c-.78.78-.78 2.05 0 2.83L4 21.41c.39.39.9.59 1.41.59.51 0 1.02-.2 1.41-.59l7.78-7.78 2.81-2.81c.8-.78.8-2.07 0-2.86zM5.41 20L4 18.59l7.72-7.72 1.47 1.35L5.41 20z\"/>\n",
              "  </svg>\n",
              "      </button>\n",
              "      \n",
              "  <style>\n",
              "    .colab-df-container {\n",
              "      display:flex;\n",
              "      flex-wrap:wrap;\n",
              "      gap: 12px;\n",
              "    }\n",
              "\n",
              "    .colab-df-convert {\n",
              "      background-color: #E8F0FE;\n",
              "      border: none;\n",
              "      border-radius: 50%;\n",
              "      cursor: pointer;\n",
              "      display: none;\n",
              "      fill: #1967D2;\n",
              "      height: 32px;\n",
              "      padding: 0 0 0 0;\n",
              "      width: 32px;\n",
              "    }\n",
              "\n",
              "    .colab-df-convert:hover {\n",
              "      background-color: #E2EBFA;\n",
              "      box-shadow: 0px 1px 2px rgba(60, 64, 67, 0.3), 0px 1px 3px 1px rgba(60, 64, 67, 0.15);\n",
              "      fill: #174EA6;\n",
              "    }\n",
              "\n",
              "    [theme=dark] .colab-df-convert {\n",
              "      background-color: #3B4455;\n",
              "      fill: #D2E3FC;\n",
              "    }\n",
              "\n",
              "    [theme=dark] .colab-df-convert:hover {\n",
              "      background-color: #434B5C;\n",
              "      box-shadow: 0px 1px 3px 1px rgba(0, 0, 0, 0.15);\n",
              "      filter: drop-shadow(0px 1px 2px rgba(0, 0, 0, 0.3));\n",
              "      fill: #FFFFFF;\n",
              "    }\n",
              "  </style>\n",
              "\n",
              "      <script>\n",
              "        const buttonEl =\n",
              "          document.querySelector('#df-787fc6b0-5766-451d-861c-0c9b53e1e690 button.colab-df-convert');\n",
              "        buttonEl.style.display =\n",
              "          google.colab.kernel.accessAllowed ? 'block' : 'none';\n",
              "\n",
              "        async function convertToInteractive(key) {\n",
              "          const element = document.querySelector('#df-787fc6b0-5766-451d-861c-0c9b53e1e690');\n",
              "          const dataTable =\n",
              "            await google.colab.kernel.invokeFunction('convertToInteractive',\n",
              "                                                     [key], {});\n",
              "          if (!dataTable) return;\n",
              "\n",
              "          const docLinkHtml = 'Like what you see? Visit the ' +\n",
              "            '<a target=\"_blank\" href=https://colab.research.google.com/notebooks/data_table.ipynb>data table notebook</a>'\n",
              "            + ' to learn more about interactive tables.';\n",
              "          element.innerHTML = '';\n",
              "          dataTable['output_type'] = 'display_data';\n",
              "          await google.colab.output.renderOutput(dataTable, element);\n",
              "          const docLink = document.createElement('div');\n",
              "          docLink.innerHTML = docLinkHtml;\n",
              "          element.appendChild(docLink);\n",
              "        }\n",
              "      </script>\n",
              "    </div>\n",
              "  </div>\n",
              "  "
            ]
          },
          "metadata": {},
          "execution_count": 13
        }
      ],
      "source": [
        "# (6) Calculate standard statistical descriptive analytics on the raw Bike Sharing Spark DataFrame\n",
        "bike_sharing_df.describe().toPandas().transpose()"
      ]
    },
    {
      "cell_type": "code",
      "execution_count": 14,
      "metadata": {
        "colab": {
          "base_uri": "https://localhost:8080/",
          "height": 297
        },
        "id": "4hhIlIlC9l5b",
        "outputId": "a316b4be-86ab-4977-86ce-c7a8ba664bcb"
      },
      "outputs": [
        {
          "output_type": "execute_result",
          "data": {
            "text/plain": [
              "<AxesSubplot:xlabel='atemp', ylabel='cnt'>"
            ]
          },
          "metadata": {},
          "execution_count": 14
        },
        {
          "output_type": "display_data",
          "data": {
            "text/plain": [
              "<Figure size 432x288 with 1 Axes>"
            ],
            "image/png": "[encoded data removed]"
          },
          "metadata": {
            "needs_background": "light"
          }
        }
      ],
      "source": [
        "# (7) Explore a Spark DataFrame\n",
        "bike_sharing_df.toPandas().plot.scatter(x='atemp', y='cnt')"
      ]
    },
    {
      "cell_type": "code",
      "execution_count": 15,
      "metadata": {
        "colab": {
          "base_uri": "https://localhost:8080/"
        },
        "id": "C7toP95N9l5d",
        "outputId": "d9333b27-d171-4859-f285-c6b64761857b"
      },
      "outputs": [
        {
          "output_type": "execute_result",
          "data": {
            "text/plain": [
              "[Row(features=DenseVector([0.3636]), cnt=985),\n",
              " Row(features=DenseVector([0.3537]), cnt=801),\n",
              " Row(features=DenseVector([0.1894]), cnt=1349),\n",
              " Row(features=DenseVector([0.2121]), cnt=1562),\n",
              " Row(features=DenseVector([0.2293]), cnt=1600),\n",
              " Row(features=DenseVector([0.2332]), cnt=1606),\n",
              " Row(features=DenseVector([0.2088]), cnt=1510),\n",
              " Row(features=DenseVector([0.1623]), cnt=959),\n",
              " Row(features=DenseVector([0.1162]), cnt=822),\n",
              " Row(features=DenseVector([0.1509]), cnt=1321)]"
            ]
          },
          "metadata": {},
          "execution_count": 15
        }
      ],
      "source": [
        "# (8) Generate Input Feature Vectors from the Raw Spark DataFrame\n",
        "univariate_feature_column = 'atemp'\n",
        "univariate_label_column = 'cnt'\n",
        "vector_assembler = VectorAssembler(inputCols = [univariate_feature_column], outputCol = 'features')\n",
        "bike_sharing_features_df = vector_assembler.transform(bike_sharing_df).select(['features', univariate_label_column])\n",
        "bike_sharing_features_df.head(10)"
      ]
    },
    {
      "cell_type": "code",
      "execution_count": 16,
      "metadata": {
        "colab": {
          "base_uri": "https://localhost:8080/"
        },
        "id": "LlU686xm9l5e",
        "outputId": "b94c9bc4-82ed-40ad-baf1-7d141bc45e24"
      },
      "outputs": [
        {
          "output_type": "execute_result",
          "data": {
            "text/plain": [
              "(557, 174)"
            ]
          },
          "metadata": {},
          "execution_count": 16
        }
      ],
      "source": [
        "# (9) Split the Raw DataFrame into a Training DataFrame and a Test DataFrame\n",
        "train_df, test_df = bike_sharing_features_df.randomSplit([0.75, 0.25], seed=12345)\n",
        "train_df.count(), test_df.count()"
      ]
    },
    {
      "cell_type": "code",
      "execution_count": 17,
      "metadata": {
        "id": "v1xHtFf_9l5f"
      },
      "outputs": [],
      "source": [
        "# (10) Train a Linear Regression Model on the Training DataFrame\n",
        "linear_regression = LinearRegression(featuresCol = 'features', labelCol = univariate_label_column)\n",
        "linear_regression_model = linear_regression.fit(train_df)"
      ]
    },
    {
      "cell_type": "code",
      "execution_count": 18,
      "metadata": {
        "colab": {
          "base_uri": "https://localhost:8080/"
        },
        "id": "o01g7VHZ9l5h",
        "outputId": "3800432a-77cc-4a85-9ca0-010aae28e6f9"
      },
      "outputs": [
        {
          "output_type": "stream",
          "name": "stdout",
          "text": [
            "Model Coefficients: [7725.87815421723]\n",
            "Intercept: 867.6267074192259\n",
            "RMSE: 1464.093853\n",
            "R-SQUARED: 0.434784\n",
            "TRAINING DATASET DESCRIPTIVE SUMMARY: \n",
            "+-------+------------------+\n",
            "|summary|               cnt|\n",
            "+-------+------------------+\n",
            "|  count|               557|\n",
            "|   mean| 4487.064631956912|\n",
            "| stddev|1949.1798476664515|\n",
            "|    min|               431|\n",
            "|    max|              8714|\n",
            "+-------+------------------+\n",
            "\n",
            "TRAINING DATASET RESIDUALS: \n",
            "+-------------------+\n",
            "|          residuals|\n",
            "+-------------------+\n",
            "| -497.5088027219208|\n",
            "| -645.2455508917183|\n",
            "|-124.02402882064098|\n",
            "| -943.1806019854125|\n",
            "| -362.7395181460638|\n",
            "|  578.3901712909524|\n",
            "|-377.33958514415053|\n",
            "| -485.0163336261039|\n",
            "| -627.3303809619842|\n",
            "| -712.3690103527551|\n",
            "| -544.0252341337941|\n",
            "| -945.4215524609276|\n",
            "| 194.67823590541457|\n",
            "|-144.15043794097164|\n",
            "|-1162.1813414535886|\n",
            "| -917.6896496379641|\n",
            "|-1233.3379146183602|\n",
            "| -691.8904617350786|\n",
            "| 210.86543895960403|\n",
            "| -854.8949980827201|\n",
            "+-------------------+\n",
            "only showing top 20 rows\n",
            "\n"
          ]
        }
      ],
      "source": [
        "# (11) Output Linear Regression Model Summary Statistics to evaluate the Training Model\n",
        "print(\"Model Coefficients: \" + str(linear_regression_model.coefficients))\n",
        "print(\"Intercept: \" + str(linear_regression_model.intercept))\n",
        "training_summary = linear_regression_model.summary\n",
        "print(\"RMSE: %f\" % training_summary.rootMeanSquaredError)\n",
        "print(\"R-SQUARED: %f\" % training_summary.r2)\n",
        "print(\"TRAINING DATASET DESCRIPTIVE SUMMARY: \")\n",
        "train_df.describe().show()\n",
        "print(\"TRAINING DATASET RESIDUALS: \")\n",
        "training_summary.residuals.show()"
      ]
    },
    {
      "cell_type": "code",
      "execution_count": 19,
      "metadata": {
        "colab": {
          "base_uri": "https://localhost:8080/"
        },
        "id": "b25QXlYH9l5p",
        "outputId": "c1eed7ba-ec1e-4989-d600-84e764c8adef"
      },
      "outputs": [
        {
          "output_type": "stream",
          "name": "stdout",
          "text": [
            "TEST DATASET PREDICTIONS AGAINST ACTUAL LABEL: \n",
            "+------------------+----+----------+\n",
            "|        prediction| cnt|  features|\n",
            "+------------------+----+----------+\n",
            "|1843.2119713430066|2236|[0.126275]|\n",
            "|2335.8371400903598|3292|[0.190038]|\n",
            "|2340.6658139367455|2298|[0.190663]|\n",
            "| 2440.615499617854| 506|  [0.2036]|\n",
            "| 2569.892618772371| 441|[0.220333]|\n",
            "|2667.4009269567464|1472|[0.232954]|\n",
            "| 2679.546007415176|1985|[0.234526]|\n",
            "| 2801.715318667813|1693|[0.250339]|\n",
            "|2838.0501236270966|3956|[0.255042]|\n",
            "|2925.8933582405466|3190|[0.266412]|\n",
            "+------------------+----+----------+\n",
            "only showing top 10 rows\n",
            "\n"
          ]
        }
      ],
      "source": [
        "# (12) Apply the Trained Linear Regression Model to the Test DataFrame to make predictions\n",
        "test_linear_regression_predictions_df = linear_regression_model.transform(test_df)\n",
        "print(\"TEST DATASET PREDICTIONS AGAINST ACTUAL LABEL: \")\n",
        "test_linear_regression_predictions_df.select(\"prediction\", univariate_label_column, \"features\").show(10)"
      ]
    },
    {
      "cell_type": "code",
      "execution_count": null,
      "metadata": {
        "id": "4A0JBqHX9l5q",
        "outputId": "3b64ae33-dd92-4d43-84de-6ebbe7da6a18"
      },
      "outputs": [
        {
          "name": "stdout",
          "output_type": "stream",
          "text": [
            "RMSE on Test Data = 1534.51\n",
            "R-SQUARED on Test Data = 0.344996\n"
          ]
        }
      ],
      "source": [
        "# (13) Evaluate the performance of our Linear Regression Model on the Test DataFrame using a Regression Evaluator\n",
        "linear_regression_evaluator_rmse = RegressionEvaluator(predictionCol = \"prediction\", labelCol = univariate_label_column, metricName = \"rmse\")\n",
        "linear_regression_evaluator_r2 = RegressionEvaluator(predictionCol = \"prediction\", labelCol = univariate_label_column, metricName = \"r2\")\n",
        "print(\"RMSE on Test Data = %g\" % linear_regression_evaluator_rmse.evaluate(test_linear_regression_predictions_df))\n",
        "print(\"R-SQUARED on Test Data = %g\" % linear_regression_evaluator_r2.evaluate(test_linear_regression_predictions_df))"
      ]
    },
    {
      "cell_type": "code",
      "execution_count": null,
      "metadata": {
        "id": "O6gj-hf39l5w",
        "outputId": "10b160fa-1afb-40ed-f48b-db4360af77dc"
      },
      "outputs": [
        {
          "name": "stdout",
          "output_type": "stream",
          "text": [
            "RMSE on Test Data = 1534.51\n",
            "R-SQUARED on Test Data = 0.344996\n"
          ]
        }
      ],
      "source": [
        "# (14) Alternatively we can use the Test Summary Results\n",
        "test_summary = linear_regression_model.evaluate(test_df)\n",
        "print(\"RMSE on Test Data = %g\" % test_summary.rootMeanSquaredError)\n",
        "print(\"R-SQUARED on Test Data = %g\" % test_summary.r2)"
      ]
    },
    {
      "cell_type": "code",
      "execution_count": 20,
      "metadata": {
        "id": "5JNCuBSQ9l5z"
      },
      "outputs": [],
      "source": [
        "# (15) Stop the Spark Context\n",
        "spark.stop()"
      ]
    }
  ],
  "metadata": {
    "kernelspec": {
      "display_name": "Python 3",
      "language": "python",
      "name": "python3"
    },
    "language_info": {
      "codemirror_mode": {
        "name": "ipython",
        "version": 3
      },
      "file_extension": ".py",
      "mimetype": "text/x-python",
      "name": "python",
      "nbconvert_exporter": "python",
      "pygments_lexer": "ipython3",
      "version": "3.6.5"
    },
    "colab": {
      "provenance": []
    }
  },
  "nbformat": 4,
  "nbformat_minor": 0
}