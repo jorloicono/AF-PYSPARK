{
  "cells": [
    {
      "cell_type": "code",
      "source": [
        "!pip install pyspark\n",
        "!pip install findspark\n",
        "\n",
        "# Import SparkSession\n",
        "from pyspark.sql import SparkSession\n",
        "\n",
        "# Create a Spark Session\n",
        "spark = SparkSession.builder.master(\"local[*]\").getOrCreate()\n",
        "\n",
        "# Check Spark Session Information\n",
        "spark"
      ],
      "metadata": {
        "colab": {
          "base_uri": "https://localhost:8080/",
          "height": 577
        },
        "id": "0xMC4lDoFgJq",
        "outputId": "512d6e17-3e01-4133-dca7-21f42fd51d63"
      },
      "execution_count": 1,
      "outputs": [
        {
          "output_type": "stream",
          "name": "stdout",
          "text": [
            "Looking in indexes: https://pypi.org/simple, https://us-python.pkg.dev/colab-wheels/public/simple/\n",
            "Collecting pyspark\n",
            "  Downloading pyspark-3.3.2.tar.gz (281.4 MB)\n",
            "\u001b[2K     \u001b[90m━━━━━━━━━━━━━━━━━━━━━━━━━━━━━━━━━━━━━━━\u001b[0m \u001b[32m281.4/281.4 MB\u001b[0m \u001b[31m3.0 MB/s\u001b[0m eta \u001b[36m0:00:00\u001b[0m\n",
            "\u001b[?25h  Preparing metadata (setup.py) ... \u001b[?25l\u001b[?25hdone\n",
            "Collecting py4j==0.10.9.5\n",
            "  Downloading py4j-0.10.9.5-py2.py3-none-any.whl (199 kB)\n",
            "\u001b[2K     \u001b[90m━━━━━━━━━━━━━━━━━━━━━━━━━━━━━━━━━━━━━━\u001b[0m \u001b[32m199.7/199.7 KB\u001b[0m \u001b[31m11.2 MB/s\u001b[0m eta \u001b[36m0:00:00\u001b[0m\n",
            "\u001b[?25hBuilding wheels for collected packages: pyspark\n",
            "  Building wheel for pyspark (setup.py) ... \u001b[?25l\u001b[?25hdone\n",
            "  Created wheel for pyspark: filename=pyspark-3.3.2-py2.py3-none-any.whl size=281824025 sha256=eee74044851669f662f0363db457a03a5fba7baacc1edbcc400d5c389d9a4da0\n",
            "  Stored in directory: /root/.cache/pip/wheels/6c/e3/9b/0525ce8a69478916513509d43693511463c6468db0de237c86\n",
            "Successfully built pyspark\n",
            "Installing collected packages: py4j, pyspark\n",
            "Successfully installed py4j-0.10.9.5 pyspark-3.3.2\n",
            "Looking in indexes: https://pypi.org/simple, https://us-python.pkg.dev/colab-wheels/public/simple/\n",
            "Collecting findspark\n",
            "  Downloading findspark-2.0.1-py2.py3-none-any.whl (4.4 kB)\n",
            "Installing collected packages: findspark\n",
            "Successfully installed findspark-2.0.1\n"
          ]
        },
        {
          "output_type": "execute_result",
          "data": {
            "text/plain": [
              "<pyspark.sql.session.SparkSession at 0x7fea8e43d6d0>"
            ],
            "text/html": [
              "\n",
              "            <div>\n",
              "                <p><b>SparkSession - in-memory</b></p>\n",
              "                \n",
              "        <div>\n",
              "            <p><b>SparkContext</b></p>\n",
              "\n",
              "            <p><a href=\"http://5c41f275b7ae:4040\">Spark UI</a></p>\n",
              "\n",
              "            <dl>\n",
              "              <dt>Version</dt>\n",
              "                <dd><code>v3.3.2</code></dd>\n",
              "              <dt>Master</dt>\n",
              "                <dd><code>local[*]</code></dd>\n",
              "              <dt>AppName</dt>\n",
              "                <dd><code>pyspark-shell</code></dd>\n",
              "            </dl>\n",
              "        </div>\n",
              "        \n",
              "            </div>\n",
              "        "
            ]
          },
          "metadata": {},
          "execution_count": 1
        }
      ]
    },
    {
      "cell_type": "code",
      "execution_count": 3,
      "metadata": {
        "id": "LL5gaYebFfWs"
      },
      "outputs": [],
      "source": [
        "# (1) Import the required Python dependencies\n",
        "%matplotlib inline\n",
        "import matplotlib.pyplot as plt\n",
        "import pandas as pd\n",
        "import findspark\n",
        "findspark.init()\n",
        "from pyspark import SparkContext, SparkConf\n",
        "from pyspark.sql import SQLContext\n",
        "from pyspark.sql.functions import col\n",
        "from pyspark.sql.types import StructType, StructField\n",
        "from pyspark.sql.types import DoubleType, IntegerType, StringType\n",
        "from pyspark.ml import Pipeline\n",
        "from pyspark.ml.feature import VectorAssembler\n",
        "from pyspark.ml.feature import StringIndexer\n",
        "from pyspark.ml.feature import OneHotEncoder\n",
        "from pyspark.ml.classification import DecisionTreeClassifier\n",
        "from pyspark.ml.classification import RandomForestClassifier\n",
        "from pyspark.ml.evaluation import BinaryClassificationEvaluator"
      ]
    },
    {
      "cell_type": "code",
      "execution_count": 4,
      "metadata": {
        "colab": {
          "base_uri": "https://localhost:8080/"
        },
        "id": "_6Ryf4F1FfWv",
        "outputId": "af0cd090-f571-4cc6-9fdf-fcafd4ddc91d"
      },
      "outputs": [
        {
          "output_type": "stream",
          "name": "stderr",
          "text": [
            "/usr/local/lib/python3.9/dist-packages/pyspark/sql/context.py:112: FutureWarning: Deprecated in 3.0.0. Use SparkSession.builder.getOrCreate() instead.\n",
            "  warnings.warn(\n"
          ]
        }
      ],
      "source": [
        "# (2) Instantiate a Spark Context\n",
        "sqlContext = SQLContext(spark)"
      ]
    },
    {
      "cell_type": "code",
      "execution_count": 7,
      "metadata": {
        "colab": {
          "base_uri": "https://localhost:8080/"
        },
        "id": "i7Rcz1ieFfW0",
        "outputId": "7f085499-5c70-405b-8d9f-4eac419f048d"
      },
      "outputs": [
        {
          "output_type": "stream",
          "name": "stdout",
          "text": [
            "+----------+-------------------+--------------------------+---------------------------------+--------------------+---------------+---------------------------+-----------------------+-------------------------+----------+-----------+----------------------------+------------------+----------------------+-----+-----------------+--------------------------------------+\n",
            "|     party|handicapped_infants|water_project_cost_sharing|adoption_of_the_budget_resolution|physician_fee_freeze|el_salvador_aid|religious_groups_in_schools|anti_satellite_test_ban|aid_to_nicaraguan_contras|mx_missile|immigration|synfuels_corporation_cutback|education_spending|superfund_right_to_sue|crime|duty_free_exports|export_administration_act_south_africa|\n",
            "+----------+-------------------+--------------------------+---------------------------------+--------------------+---------------+---------------------------+-----------------------+-------------------------+----------+-----------+----------------------------+------------------+----------------------+-----+-----------------+--------------------------------------+\n",
            "|republican|                  n|                         y|                                n|                   y|              y|                          y|                      n|                        n|         n|          y|                           ?|                 y|                     y|    y|                n|                                     y|\n",
            "|republican|                  n|                         y|                                n|                   y|              y|                          y|                      n|                        n|         n|          n|                           n|                 y|                     y|    y|                n|                                     ?|\n",
            "+----------+-------------------+--------------------------+---------------------------------+--------------------+---------------+---------------------------+-----------------------+-------------------------+----------+-----------+----------------------------+------------------+----------------------+-----+-----------------+--------------------------------------+\n",
            "only showing top 2 rows\n",
            "\n"
          ]
        }
      ],
      "source": [
        "# (3) Load the Congressional Voting dataset (data/congressional-voting-data/house-votes-84.csv) into a Spark DataFrame\n",
        "schema = StructType([\n",
        "    StructField(\"party\", StringType()),\n",
        "    StructField(\"handicapped_infants\", StringType()),\n",
        "    StructField(\"water_project_cost_sharing\", StringType()),\n",
        "    StructField(\"adoption_of_the_budget_resolution\", StringType()),\n",
        "    StructField(\"physician_fee_freeze\", StringType()),\n",
        "    StructField(\"el_salvador_aid\", StringType()),\n",
        "    StructField(\"religious_groups_in_schools\", StringType()),\n",
        "    StructField(\"anti_satellite_test_ban\", StringType()),\n",
        "    StructField(\"aid_to_nicaraguan_contras\", StringType()),\n",
        "    StructField(\"mx_missile\", StringType()),\n",
        "    StructField(\"immigration\", StringType()),\n",
        "    StructField(\"synfuels_corporation_cutback\", StringType()),\n",
        "    StructField(\"education_spending\", StringType()),\n",
        "    StructField(\"superfund_right_to_sue\", StringType()),\n",
        "    StructField(\"crime\", StringType()),\n",
        "    StructField(\"duty_free_exports\", StringType()),\n",
        "    StructField(\"export_administration_act_south_africa\", StringType())\n",
        "])\n",
        "\n",
        "congressional_voting_df = sqlContext.read.format('com.databricks.spark.csv').schema(schema).options(header = 'false', inferschema = 'false').load('/content/house-votes-84.data')\n",
        "congressional_voting_df.show(2)"
      ]
    },
    {
      "cell_type": "code",
      "execution_count": 8,
      "metadata": {
        "id": "m13EVpCLFfW2"
      },
      "outputs": [],
      "source": [
        "# (4) Index the relevant categorical and label variables using a Pipeline of stages\n",
        "categorical_columns = ['handicapped_infants', 'water_project_cost_sharing', 'adoption_of_the_budget_resolution', 'physician_fee_freeze', 'el_salvador_aid', 'religious_groups_in_schools', 'anti_satellite_test_ban', 'aid_to_nicaraguan_contras', 'mx_missile', 'immigration', 'synfuels_corporation_cutback', 'education_spending', 'superfund_right_to_sue', 'crime', 'duty_free_exports', 'export_administration_act_south_africa']\n",
        "pipeline_stages = []\n",
        "for categorial_column in categorical_columns:\n",
        "    string_indexer = StringIndexer(inputCol = categorial_column, outputCol = categorial_column + 'Index')\n",
        "    encoder = OneHotEncoder(inputCols = [string_indexer.getOutputCol()], outputCols=[categorial_column + \"classVec\"])\n",
        "    pipeline_stages += [string_indexer, encoder]\n",
        "    \n",
        "label_string_idx = StringIndexer(inputCol = 'party', outputCol = 'label')\n",
        "pipeline_stages += [label_string_idx]\n",
        "vector_assembler_inputs = [c + \"classVec\" for c in categorical_columns]\n",
        "vector_assembler = VectorAssembler(inputCols = vector_assembler_inputs, outputCol = \"features\")\n",
        "pipeline_stages += [vector_assembler]"
      ]
    },
    {
      "cell_type": "code",
      "execution_count": 9,
      "metadata": {
        "colab": {
          "base_uri": "https://localhost:8080/",
          "height": 205
        },
        "id": "EBHojqPTFfW3",
        "outputId": "107cbf38-b3b5-4101-a8e5-7a0703c1201a"
      },
      "outputs": [
        {
          "output_type": "execute_result",
          "data": {
            "text/plain": [
              "                                                          0  \\\n",
              "features  (1.0, 0.0, 1.0, 0.0, 0.0, 1.0, 0.0, 1.0, 1.0, ...   \n",
              "label                                                   1.0   \n",
              "party                                            republican   \n",
              "\n",
              "                                                          1  \\\n",
              "features  (1.0, 0.0, 1.0, 0.0, 0.0, 1.0, 0.0, 1.0, 1.0, ...   \n",
              "label                                                   1.0   \n",
              "party                                            republican   \n",
              "\n",
              "                                                          2  \\\n",
              "features  (0.0, 0.0, 1.0, 0.0, 1.0, 0.0, 0.0, 0.0, 1.0, ...   \n",
              "label                                                   0.0   \n",
              "party                                              democrat   \n",
              "\n",
              "                                                          3  \\\n",
              "features  (1.0, 0.0, 1.0, 0.0, 1.0, 0.0, 1.0, 0.0, 0.0, ...   \n",
              "label                                                   0.0   \n",
              "party                                              democrat   \n",
              "\n",
              "                                                          4  \n",
              "features  (0.0, 1.0, 1.0, 0.0, 1.0, 0.0, 1.0, 0.0, 1.0, ...  \n",
              "label                                                   0.0  \n",
              "party                                              democrat  "
            ],
            "text/html": [
              "\n",
              "  <div id=\"df-3bac45a0-fe5c-4f8b-bbfb-348b08bc3bb2\">\n",
              "    <div class=\"colab-df-container\">\n",
              "      <div>\n",
              "<style scoped>\n",
              "    .dataframe tbody tr th:only-of-type {\n",
              "        vertical-align: middle;\n",
              "    }\n",
              "\n",
              "    .dataframe tbody tr th {\n",
              "        vertical-align: top;\n",
              "    }\n",
              "\n",
              "    .dataframe thead th {\n",
              "        text-align: right;\n",
              "    }\n",
              "</style>\n",
              "<table border=\"1\" class=\"dataframe\">\n",
              "  <thead>\n",
              "    <tr style=\"text-align: right;\">\n",
              "      <th></th>\n",
              "      <th>0</th>\n",
              "      <th>1</th>\n",
              "      <th>2</th>\n",
              "      <th>3</th>\n",
              "      <th>4</th>\n",
              "    </tr>\n",
              "  </thead>\n",
              "  <tbody>\n",
              "    <tr>\n",
              "      <th>features</th>\n",
              "      <td>(1.0, 0.0, 1.0, 0.0, 0.0, 1.0, 0.0, 1.0, 1.0, ...</td>\n",
              "      <td>(1.0, 0.0, 1.0, 0.0, 0.0, 1.0, 0.0, 1.0, 1.0, ...</td>\n",
              "      <td>(0.0, 0.0, 1.0, 0.0, 1.0, 0.0, 0.0, 0.0, 1.0, ...</td>\n",
              "      <td>(1.0, 0.0, 1.0, 0.0, 1.0, 0.0, 1.0, 0.0, 0.0, ...</td>\n",
              "      <td>(0.0, 1.0, 1.0, 0.0, 1.0, 0.0, 1.0, 0.0, 1.0, ...</td>\n",
              "    </tr>\n",
              "    <tr>\n",
              "      <th>label</th>\n",
              "      <td>1.0</td>\n",
              "      <td>1.0</td>\n",
              "      <td>0.0</td>\n",
              "      <td>0.0</td>\n",
              "      <td>0.0</td>\n",
              "    </tr>\n",
              "    <tr>\n",
              "      <th>party</th>\n",
              "      <td>republican</td>\n",
              "      <td>republican</td>\n",
              "      <td>democrat</td>\n",
              "      <td>democrat</td>\n",
              "      <td>democrat</td>\n",
              "    </tr>\n",
              "  </tbody>\n",
              "</table>\n",
              "</div>\n",
              "      <button class=\"colab-df-convert\" onclick=\"convertToInteractive('df-3bac45a0-fe5c-4f8b-bbfb-348b08bc3bb2')\"\n",
              "              title=\"Convert this dataframe to an interactive table.\"\n",
              "              style=\"display:none;\">\n",
              "        \n",
              "  <svg xmlns=\"http://www.w3.org/2000/svg\" height=\"24px\"viewBox=\"0 0 24 24\"\n",
              "       width=\"24px\">\n",
              "    <path d=\"M0 0h24v24H0V0z\" fill=\"none\"/>\n",
              "    <path d=\"M18.56 5.44l.94 2.06.94-2.06 2.06-.94-2.06-.94-.94-2.06-.94 2.06-2.06.94zm-11 1L8.5 8.5l.94-2.06 2.06-.94-2.06-.94L8.5 2.5l-.94 2.06-2.06.94zm10 10l.94 2.06.94-2.06 2.06-.94-2.06-.94-.94-2.06-.94 2.06-2.06.94z\"/><path d=\"M17.41 7.96l-1.37-1.37c-.4-.4-.92-.59-1.43-.59-.52 0-1.04.2-1.43.59L10.3 9.45l-7.72 7.72c-.78.78-.78 2.05 0 2.83L4 21.41c.39.39.9.59 1.41.59.51 0 1.02-.2 1.41-.59l7.78-7.78 2.81-2.81c.8-.78.8-2.07 0-2.86zM5.41 20L4 18.59l7.72-7.72 1.47 1.35L5.41 20z\"/>\n",
              "  </svg>\n",
              "      </button>\n",
              "      \n",
              "  <style>\n",
              "    .colab-df-container {\n",
              "      display:flex;\n",
              "      flex-wrap:wrap;\n",
              "      gap: 12px;\n",
              "    }\n",
              "\n",
              "    .colab-df-convert {\n",
              "      background-color: #E8F0FE;\n",
              "      border: none;\n",
              "      border-radius: 50%;\n",
              "      cursor: pointer;\n",
              "      display: none;\n",
              "      fill: #1967D2;\n",
              "      height: 32px;\n",
              "      padding: 0 0 0 0;\n",
              "      width: 32px;\n",
              "    }\n",
              "\n",
              "    .colab-df-convert:hover {\n",
              "      background-color: #E2EBFA;\n",
              "      box-shadow: 0px 1px 2px rgba(60, 64, 67, 0.3), 0px 1px 3px 1px rgba(60, 64, 67, 0.15);\n",
              "      fill: #174EA6;\n",
              "    }\n",
              "\n",
              "    [theme=dark] .colab-df-convert {\n",
              "      background-color: #3B4455;\n",
              "      fill: #D2E3FC;\n",
              "    }\n",
              "\n",
              "    [theme=dark] .colab-df-convert:hover {\n",
              "      background-color: #434B5C;\n",
              "      box-shadow: 0px 1px 3px 1px rgba(0, 0, 0, 0.15);\n",
              "      filter: drop-shadow(0px 1px 2px rgba(0, 0, 0, 0.3));\n",
              "      fill: #FFFFFF;\n",
              "    }\n",
              "  </style>\n",
              "\n",
              "      <script>\n",
              "        const buttonEl =\n",
              "          document.querySelector('#df-3bac45a0-fe5c-4f8b-bbfb-348b08bc3bb2 button.colab-df-convert');\n",
              "        buttonEl.style.display =\n",
              "          google.colab.kernel.accessAllowed ? 'block' : 'none';\n",
              "\n",
              "        async function convertToInteractive(key) {\n",
              "          const element = document.querySelector('#df-3bac45a0-fe5c-4f8b-bbfb-348b08bc3bb2');\n",
              "          const dataTable =\n",
              "            await google.colab.kernel.invokeFunction('convertToInteractive',\n",
              "                                                     [key], {});\n",
              "          if (!dataTable) return;\n",
              "\n",
              "          const docLinkHtml = 'Like what you see? Visit the ' +\n",
              "            '<a target=\"_blank\" href=https://colab.research.google.com/notebooks/data_table.ipynb>data table notebook</a>'\n",
              "            + ' to learn more about interactive tables.';\n",
              "          element.innerHTML = '';\n",
              "          dataTable['output_type'] = 'display_data';\n",
              "          await google.colab.output.renderOutput(dataTable, element);\n",
              "          const docLink = document.createElement('div');\n",
              "          docLink.innerHTML = docLinkHtml;\n",
              "          element.appendChild(docLink);\n",
              "        }\n",
              "      </script>\n",
              "    </div>\n",
              "  </div>\n",
              "  "
            ]
          },
          "metadata": {},
          "execution_count": 9
        }
      ],
      "source": [
        "# (5) Generate Input Feature Vectors from the Raw Spark DataFrame by executing the previously constructed Pipeline\n",
        "pipeline = Pipeline(stages = pipeline_stages)\n",
        "pipeline_model = pipeline.fit(congressional_voting_df)\n",
        "label_column = 'label'\n",
        "congressional_voting_features_df = pipeline_model.transform(congressional_voting_df).select(['features', label_column, 'party'])\n",
        "pd.DataFrame(congressional_voting_features_df.take(5), columns=congressional_voting_features_df.columns).transpose()"
      ]
    },
    {
      "cell_type": "code",
      "execution_count": 10,
      "metadata": {
        "colab": {
          "base_uri": "https://localhost:8080/"
        },
        "id": "XubSCT_nFfW5",
        "outputId": "89769be9-007d-426a-c2ba-71c789e6ecec"
      },
      "outputs": [
        {
          "output_type": "execute_result",
          "data": {
            "text/plain": [
              "(331, 104)"
            ]
          },
          "metadata": {},
          "execution_count": 10
        }
      ],
      "source": [
        "# (6) Split the Raw Features and Labelled DataFrame into a Training DataFrame and a Test DataFrame\n",
        "train_df, test_df = congressional_voting_features_df.randomSplit([0.75, 0.25], seed=12345)\n",
        "train_df.count(), test_df.count()"
      ]
    },
    {
      "cell_type": "code",
      "execution_count": 11,
      "metadata": {
        "id": "4h8eLTDjFfW6"
      },
      "outputs": [],
      "source": [
        "# (7) Train a Classification Tree Model on the Training DataFrame\n",
        "decision_tree = DecisionTreeClassifier(featuresCol = 'features', labelCol = label_column)\n",
        "decision_tree_model = decision_tree.fit(train_df)"
      ]
    },
    {
      "cell_type": "code",
      "execution_count": 12,
      "metadata": {
        "colab": {
          "base_uri": "https://localhost:8080/"
        },
        "id": "nEEhFy7PFfW6",
        "outputId": "a4b066c9-f1ce-4ae1-e9d3-5684f2e3a6be"
      },
      "outputs": [
        {
          "output_type": "stream",
          "name": "stdout",
          "text": [
            "TEST DATASET PREDICTIONS AGAINST ACTUAL LABEL: \n",
            "+--------------------+-------------+----------+-----+--------------------+\n",
            "|         probability|rawPrediction|prediction|label|            features|\n",
            "+--------------------+-------------+----------+-----+--------------------+\n",
            "|[0.99459459459459...|  [184.0,1.0]|       0.0|  0.0|(32,[0,2,4,6,8,10...|\n",
            "|[0.99459459459459...|  [184.0,1.0]|       0.0|  0.0|(32,[0,2,4,6,9,11...|\n",
            "|[0.99459459459459...|  [184.0,1.0]|       0.0|  0.0|(32,[0,2,4,6,9,11...|\n",
            "|[0.99459459459459...|  [184.0,1.0]|       0.0|  0.0|(32,[0,2,4,6,9,12...|\n",
            "|           [0.0,1.0]|   [0.0,10.0]|       1.0|  1.0|(32,[0,2,4,7,8,10...|\n",
            "|[0.08333333333333...|   [1.0,11.0]|       1.0|  1.0|(32,[0,2,5,7,8,10...|\n",
            "|           [0.0,1.0]|   [0.0,94.0]|       1.0|  1.0|(32,[0,2,5,7,8,10...|\n",
            "|[0.08333333333333...|   [1.0,11.0]|       1.0|  1.0|(32,[0,2,5,7,8,10...|\n",
            "|           [0.0,1.0]|   [0.0,94.0]|       1.0|  1.0|(32,[0,2,5,7,8,10...|\n",
            "|           [0.0,1.0]|   [0.0,94.0]|       1.0|  1.0|(32,[0,2,5,7,8,10...|\n",
            "|[0.08333333333333...|   [1.0,11.0]|       1.0|  1.0|(32,[0,2,5,7,8,10...|\n",
            "|           [0.0,1.0]|   [0.0,94.0]|       1.0|  1.0|(32,[0,2,5,7,8,10...|\n",
            "|[0.99459459459459...|  [184.0,1.0]|       0.0|  0.0|(32,[0,3,4,6,9,10...|\n",
            "|[0.99459459459459...|  [184.0,1.0]|       0.0|  0.0|(32,[0,3,4,6,9,10...|\n",
            "|[0.99459459459459...|  [184.0,1.0]|       0.0|  0.0|(32,[0,3,4,6,9,10...|\n",
            "|[0.99459459459459...|  [184.0,1.0]|       0.0|  0.0|(32,[0,3,4,6,9,10...|\n",
            "|[0.99459459459459...|  [184.0,1.0]|       0.0|  0.0|(32,[0,3,4,6,9,11...|\n",
            "|[0.99459459459459...|  [184.0,1.0]|       0.0|  0.0|(32,[0,3,4,6,9,11...|\n",
            "|[0.99459459459459...|  [184.0,1.0]|       0.0|  0.0|(32,[0,3,4,6,9,11...|\n",
            "|[0.99459459459459...|  [184.0,1.0]|       0.0|  0.0|(32,[0,3,4,6,9,11...|\n",
            "+--------------------+-------------+----------+-----+--------------------+\n",
            "only showing top 20 rows\n",
            "\n"
          ]
        }
      ],
      "source": [
        "# (8) Apply the Trained Classification Tree Model to the Test DataFrame to make predictions\n",
        "test_decision_tree_predictions_df = decision_tree_model.transform(test_df)\n",
        "print(\"TEST DATASET PREDICTIONS AGAINST ACTUAL LABEL: \")\n",
        "test_decision_tree_predictions_df.select(\"probability\", \"rawPrediction\", \"prediction\", label_column, \"features\").show()"
      ]
    },
    {
      "cell_type": "code",
      "execution_count": 13,
      "metadata": {
        "colab": {
          "base_uri": "https://localhost:8080/"
        },
        "id": "JdPnRZeTFfW7",
        "outputId": "f7e161bb-a8ad-4c85-94da-c2665477c1bd"
      },
      "outputs": [
        {
          "output_type": "stream",
          "name": "stdout",
          "text": [
            "Area Under ROC Curve on Test Data = 0.90927\n"
          ]
        }
      ],
      "source": [
        "# (9) Evaluate the performance of our Classification Tree Model on the Test DataFrame using Area under a ROC curve\n",
        "evaluator_roc_area = BinaryClassificationEvaluator(rawPredictionCol = \"rawPrediction\", labelCol = label_column, metricName = \"areaUnderROC\")\n",
        "print(\"Area Under ROC Curve on Test Data = %g\" % evaluator_roc_area.evaluate(test_decision_tree_predictions_df))"
      ]
    },
    {
      "cell_type": "code",
      "execution_count": 14,
      "metadata": {
        "colab": {
          "base_uri": "https://localhost:8080/"
        },
        "id": "R-4UvXmjFfW9",
        "outputId": "87aa204b-f4bc-4518-959a-efdef5c82d91"
      },
      "outputs": [
        {
          "output_type": "stream",
          "name": "stdout",
          "text": [
            "DecisionTreeClassificationModel: uid=DecisionTreeClassifier_3b4bcc59332a, depth=5, numNodes=31, numClasses=2, numFeatures=32\n",
            "  If (feature 7 in {0.0})\n",
            "   If (feature 6 in {1.0})\n",
            "    Predict: 0.0\n",
            "   Else (feature 6 not in {1.0})\n",
            "    If (feature 20 in {0.0})\n",
            "     If (feature 14 in {1.0})\n",
            "      Predict: 0.0\n",
            "     Else (feature 14 not in {1.0})\n",
            "      If (feature 0 in {0.0})\n",
            "       Predict: 0.0\n",
            "      Else (feature 0 not in {0.0})\n",
            "       Predict: 1.0\n",
            "    Else (feature 20 not in {0.0})\n",
            "     Predict: 1.0\n",
            "  Else (feature 7 not in {0.0})\n",
            "   If (feature 21 in {1.0})\n",
            "    If (feature 5 in {0.0})\n",
            "     If (feature 12 in {0.0})\n",
            "      Predict: 0.0\n",
            "     Else (feature 12 not in {0.0})\n",
            "      Predict: 1.0\n",
            "    Else (feature 5 not in {0.0})\n",
            "     If (feature 8 in {0.0})\n",
            "      Predict: 0.0\n",
            "     Else (feature 8 not in {0.0})\n",
            "      If (feature 24 in {0.0})\n",
            "       Predict: 0.0\n",
            "      Else (feature 24 not in {0.0})\n",
            "       Predict: 1.0\n",
            "   Else (feature 21 not in {1.0})\n",
            "    If (feature 29 in {1.0})\n",
            "     If (feature 18 in {0.0})\n",
            "      If (feature 16 in {1.0})\n",
            "       Predict: 0.0\n",
            "      Else (feature 16 not in {1.0})\n",
            "       Predict: 1.0\n",
            "     Else (feature 18 not in {0.0})\n",
            "      Predict: 1.0\n",
            "    Else (feature 29 not in {1.0})\n",
            "     If (feature 4 in {1.0})\n",
            "      If (feature 30 in {0.0})\n",
            "       Predict: 0.0\n",
            "      Else (feature 30 not in {0.0})\n",
            "       Predict: 1.0\n",
            "     Else (feature 4 not in {1.0})\n",
            "      Predict: 1.0\n",
            "\n"
          ]
        }
      ],
      "source": [
        "# (10) Visualise the Classification Tree\n",
        "print(str(decision_tree_model.toDebugString))"
      ]
    },
    {
      "cell_type": "code",
      "execution_count": 15,
      "metadata": {
        "id": "E4hhk7zmFfW-"
      },
      "outputs": [],
      "source": [
        "# (11) Train a Random Forest Classifier Model on the Training DataFrame\n",
        "random_forest = RandomForestClassifier(featuresCol = 'features', labelCol = label_column)\n",
        "random_forest_model = random_forest.fit(train_df)"
      ]
    },
    {
      "cell_type": "code",
      "execution_count": 16,
      "metadata": {
        "colab": {
          "base_uri": "https://localhost:8080/"
        },
        "id": "T6_ZRnEJFfXB",
        "outputId": "ed82fc71-8a6c-4cbf-d5db-3c562799ff8d"
      },
      "outputs": [
        {
          "output_type": "stream",
          "name": "stdout",
          "text": [
            "TEST DATASET PREDICTIONS AGAINST ACTUAL LABEL: \n",
            "+--------------------+--------------------+----------+-----+--------------------+\n",
            "|         probability|       rawPrediction|prediction|label|            features|\n",
            "+--------------------+--------------------+----------+-----+--------------------+\n",
            "|[0.94136183356285...|[18.8272366712571...|       0.0|  0.0|(32,[0,2,4,6,8,10...|\n",
            "|[0.99664449498030...|[19.9328898996061...|       0.0|  0.0|(32,[0,2,4,6,9,11...|\n",
            "|[0.99664449498030...|[19.9328898996061...|       0.0|  0.0|(32,[0,2,4,6,9,11...|\n",
            "|[0.99664449498030...|[19.9328898996061...|       0.0|  0.0|(32,[0,2,4,6,9,12...|\n",
            "|[0.17506228048673...|[3.50124560973471...|       1.0|  1.0|(32,[0,2,4,7,8,10...|\n",
            "|[0.35666020140460...|[7.13320402809206...|       1.0|  1.0|(32,[0,2,5,7,8,10...|\n",
            "|[0.05936769253220...|[1.18735385064406...|       1.0|  1.0|(32,[0,2,5,7,8,10...|\n",
            "|[0.06526364701835...|[1.30527294036703...|       1.0|  1.0|(32,[0,2,5,7,8,10...|\n",
            "|[0.11421157090776...|[2.28423141815523...|       1.0|  1.0|(32,[0,2,5,7,8,10...|\n",
            "|[0.05457856425389...|[1.09157128507792...|       1.0|  1.0|(32,[0,2,5,7,8,10...|\n",
            "|[0.14429913273146...|[2.88598265462938...|       1.0|  1.0|(32,[0,2,5,7,8,10...|\n",
            "|[0.26895936266636...|[5.37918725332736...|       1.0|  1.0|(32,[0,2,5,7,8,10...|\n",
            "|[0.89798520350092...|[17.9597040700184...|       0.0|  0.0|(32,[0,3,4,6,9,10...|\n",
            "|[0.99664449498030...|[19.9328898996061...|       0.0|  0.0|(32,[0,3,4,6,9,10...|\n",
            "|[0.98590187016758...|[19.7180374033517...|       0.0|  0.0|(32,[0,3,4,6,9,10...|\n",
            "|[0.99664449498030...|[19.9328898996061...|       0.0|  0.0|(32,[0,3,4,6,9,10...|\n",
            "|[0.99664449498030...|[19.9328898996061...|       0.0|  0.0|(32,[0,3,4,6,9,11...|\n",
            "|[0.99664449498030...|[19.9328898996061...|       0.0|  0.0|(32,[0,3,4,6,9,11...|\n",
            "|[0.99664449498030...|[19.9328898996061...|       0.0|  0.0|(32,[0,3,4,6,9,11...|\n",
            "|[0.99664449498030...|[19.9328898996061...|       0.0|  0.0|(32,[0,3,4,6,9,11...|\n",
            "+--------------------+--------------------+----------+-----+--------------------+\n",
            "only showing top 20 rows\n",
            "\n"
          ]
        }
      ],
      "source": [
        "# (12) Apply the Trained Random Forest Classifier Model to the Test DataFrame to make predictions\n",
        "test_random_forest_predictions_df = random_forest_model.transform(test_df)\n",
        "print(\"TEST DATASET PREDICTIONS AGAINST ACTUAL LABEL: \")\n",
        "test_random_forest_predictions_df.select(\"probability\", \"rawPrediction\", \"prediction\", label_column, \"features\").show()"
      ]
    },
    {
      "cell_type": "code",
      "execution_count": 17,
      "metadata": {
        "colab": {
          "base_uri": "https://localhost:8080/"
        },
        "id": "2remKEy2FfXC",
        "outputId": "b99d87d6-3371-43d1-8d55-b7671601fa8b"
      },
      "outputs": [
        {
          "output_type": "stream",
          "name": "stdout",
          "text": [
            "Area Under ROC Curve on Test Data = 0.988955\n"
          ]
        }
      ],
      "source": [
        "# (13) Evaluate the performance of our Random Forest Classifier Model on the Test DataFrame using Area under a ROC curve\n",
        "evaluator_rf_roc_area = BinaryClassificationEvaluator(rawPredictionCol = \"rawPrediction\", labelCol = label_column, metricName = \"areaUnderROC\")\n",
        "print(\"Area Under ROC Curve on Test Data = %g\" % evaluator_rf_roc_area.evaluate(test_random_forest_predictions_df))"
      ]
    },
    {
      "cell_type": "code",
      "execution_count": null,
      "metadata": {
        "id": "K50XZ-DiFfXE"
      },
      "outputs": [],
      "source": [
        "# (14) Stop the Spark Context\n",
        "spark.stop()"
      ]
    }
  ],
  "metadata": {
    "kernelspec": {
      "display_name": "Python 3",
      "language": "python",
      "name": "python3"
    },
    "language_info": {
      "codemirror_mode": {
        "name": "ipython",
        "version": 3
      },
      "file_extension": ".py",
      "mimetype": "text/x-python",
      "name": "python",
      "nbconvert_exporter": "python",
      "pygments_lexer": "ipython3",
      "version": "3.6.5"
    },
    "colab": {
      "provenance": []
    }
  },
  "nbformat": 4,
  "nbformat_minor": 0
}