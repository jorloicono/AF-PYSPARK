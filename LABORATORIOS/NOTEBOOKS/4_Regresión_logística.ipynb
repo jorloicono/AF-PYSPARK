{
  "cells": [
    {
      "cell_type": "code",
      "source": [
        "!pip install pyspark\n",
        "!pip install findspark\n",
        "\n",
        "# Import SparkSession\n",
        "from pyspark.sql import SparkSession\n",
        "\n",
        "# Create a Spark Session\n",
        "spark = SparkSession.builder.master(\"local[*]\").getOrCreate()\n",
        "\n",
        "# Check Spark Session Information\n",
        "spark"
      ],
      "metadata": {
        "colab": {
          "base_uri": "https://localhost:8080/",
          "height": 577
        },
        "id": "p9w5PRKLCZnR",
        "outputId": "9f11fb84-94e6-4f7d-f421-6d4bd4f99246"
      },
      "execution_count": 1,
      "outputs": [
        {
          "output_type": "stream",
          "name": "stdout",
          "text": [
            "Looking in indexes: https://pypi.org/simple, https://us-python.pkg.dev/colab-wheels/public/simple/\n",
            "Collecting pyspark\n",
            "  Downloading pyspark-3.3.2.tar.gz (281.4 MB)\n",
            "\u001b[2K     \u001b[90m━━━━━━━━━━━━━━━━━━━━━━━━━━━━━━━━━━━━━━━\u001b[0m \u001b[32m281.4/281.4 MB\u001b[0m \u001b[31m3.6 MB/s\u001b[0m eta \u001b[36m0:00:00\u001b[0m\n",
            "\u001b[?25h  Preparing metadata (setup.py) ... \u001b[?25l\u001b[?25hdone\n",
            "Collecting py4j==0.10.9.5\n",
            "  Downloading py4j-0.10.9.5-py2.py3-none-any.whl (199 kB)\n",
            "\u001b[2K     \u001b[90m━━━━━━━━━━━━━━━━━━━━━━━━━━━━━━━━━━━━━━━\u001b[0m \u001b[32m199.7/199.7 KB\u001b[0m \u001b[31m6.4 MB/s\u001b[0m eta \u001b[36m0:00:00\u001b[0m\n",
            "\u001b[?25hBuilding wheels for collected packages: pyspark\n",
            "  Building wheel for pyspark (setup.py) ... \u001b[?25l\u001b[?25hdone\n",
            "  Created wheel for pyspark: filename=pyspark-3.3.2-py2.py3-none-any.whl size=281824025 sha256=fc8740e851f53fbedc8c8fb805401a434c75930dd568f60bed7d979b18f21a2e\n",
            "  Stored in directory: /root/.cache/pip/wheels/6c/e3/9b/0525ce8a69478916513509d43693511463c6468db0de237c86\n",
            "Successfully built pyspark\n",
            "Installing collected packages: py4j, pyspark\n",
            "Successfully installed py4j-0.10.9.5 pyspark-3.3.2\n",
            "Looking in indexes: https://pypi.org/simple, https://us-python.pkg.dev/colab-wheels/public/simple/\n",
            "Collecting findspark\n",
            "  Downloading findspark-2.0.1-py2.py3-none-any.whl (4.4 kB)\n",
            "Installing collected packages: findspark\n",
            "Successfully installed findspark-2.0.1\n"
          ]
        },
        {
          "output_type": "execute_result",
          "data": {
            "text/plain": [
              "<pyspark.sql.session.SparkSession at 0x7feedc0e16d0>"
            ],
            "text/html": [
              "\n",
              "            <div>\n",
              "                <p><b>SparkSession - in-memory</b></p>\n",
              "                \n",
              "        <div>\n",
              "            <p><b>SparkContext</b></p>\n",
              "\n",
              "            <p><a href=\"http://efc12ab1ea0b:4040\">Spark UI</a></p>\n",
              "\n",
              "            <dl>\n",
              "              <dt>Version</dt>\n",
              "                <dd><code>v3.3.2</code></dd>\n",
              "              <dt>Master</dt>\n",
              "                <dd><code>local[*]</code></dd>\n",
              "              <dt>AppName</dt>\n",
              "                <dd><code>pyspark-shell</code></dd>\n",
              "            </dl>\n",
              "        </div>\n",
              "        \n",
              "            </div>\n",
              "        "
            ]
          },
          "metadata": {},
          "execution_count": 1
        }
      ]
    },
    {
      "cell_type": "code",
      "execution_count": 2,
      "metadata": {
        "id": "8k1Z74tDCYxE"
      },
      "outputs": [],
      "source": [
        "# (1) Import the required Python dependencies\n",
        "%matplotlib inline\n",
        "import matplotlib.pyplot as plt\n",
        "import pandas as pd\n",
        "import findspark\n",
        "findspark.init()\n",
        "from pyspark import SparkContext, SparkConf\n",
        "from pyspark.sql import SQLContext\n",
        "from pyspark.sql.functions import col\n",
        "from pyspark.ml.feature import VectorAssembler\n",
        "from pyspark.ml.feature import StringIndexer\n",
        "from pyspark.ml.classification import LogisticRegression\n",
        "from pyspark.ml.evaluation import BinaryClassificationEvaluator\n",
        "from pyspark.mllib.evaluation import MulticlassMetrics"
      ]
    },
    {
      "cell_type": "code",
      "execution_count": 3,
      "metadata": {
        "colab": {
          "base_uri": "https://localhost:8080/"
        },
        "id": "v028-1sTCYxI",
        "outputId": "b02f9bc5-7c91-41d7-b1c9-c6faea8149e8"
      },
      "outputs": [
        {
          "output_type": "stream",
          "name": "stderr",
          "text": [
            "/usr/local/lib/python3.9/dist-packages/pyspark/sql/context.py:112: FutureWarning: Deprecated in 3.0.0. Use SparkSession.builder.getOrCreate() instead.\n",
            "  warnings.warn(\n"
          ]
        }
      ],
      "source": [
        "# (2) Instantiate a Spark Context\n",
        "sqlContext = SQLContext(spark)"
      ]
    },
    {
      "cell_type": "code",
      "execution_count": 4,
      "metadata": {
        "colab": {
          "base_uri": "https://localhost:8080/"
        },
        "id": "x9r0JvQXCYxK",
        "outputId": "1c877c2b-ce89-4547-fff9-17174b2ac5b1"
      },
      "outputs": [
        {
          "output_type": "stream",
          "name": "stdout",
          "text": [
            "+---+-----------+-------+-------+-----------+-------+-----------+--------+--------+--------------+-----+\n",
            "|Age|        BMI|Glucose|Insulin|       HOMA| Leptin|Adiponectin|Resistin|   MCP_1|Classification|label|\n",
            "+---+-----------+-------+-------+-----------+-------+-----------+--------+--------+--------------+-----+\n",
            "| 48|       23.5|     70|  2.707|0.467408667| 8.8071|     9.7024| 7.99585| 417.114|             1|  1.0|\n",
            "| 83|20.69049454|     92|  3.115|0.706897333| 8.8438|   5.429285| 4.06405| 468.786|             1|  1.0|\n",
            "| 82|23.12467037|     91|  4.498|1.009651067|17.9393|   22.43204| 9.27715| 554.697|             1|  1.0|\n",
            "| 68|21.36752137|     77|  3.226|0.612724933| 9.8827|    7.16956|  12.766|  928.22|             1|  1.0|\n",
            "| 86|21.11111111|     92|  3.549|  0.8053864| 6.6994|    4.81924|10.57635|  773.92|             1|  1.0|\n",
            "| 49|22.85445769|     92|  3.226|0.732086933| 6.8317|   13.67975| 10.3176|  530.41|             1|  1.0|\n",
            "| 89|       22.7|     77|   4.69|0.890787333|  6.964|   5.589865| 12.9361|1256.083|             1|  1.0|\n",
            "| 76|       23.8|    118|   6.47|1.883201333|  4.311|   13.25132|  5.1042| 280.694|             1|  1.0|\n",
            "| 73|       22.0|     97|   3.35|0.801543333|   4.47|  10.358725| 6.28445| 136.855|             1|  1.0|\n",
            "| 75|       23.0|     83|  4.952|1.013839467| 17.127|   11.57899|  7.0913| 318.302|             1|  1.0|\n",
            "+---+-----------+-------+-------+-----------+-------+-----------+--------+--------+--------------+-----+\n",
            "only showing top 10 rows\n",
            "\n"
          ]
        }
      ],
      "source": [
        "# (3) Load the Breast Cancer dataset (data/breast-cancer-data/dataR2.csv) into a Spark DataFrame\n",
        "breast_cancer_df = sqlContext.read.format('com.databricks.spark.csv').options(header = 'true', inferschema = 'true').load('/content/dataR2.csv')\n",
        "breast_cancer_df = breast_cancer_df.withColumnRenamed('MCP.1', 'MCP_1')\n",
        "indexer = StringIndexer(inputCol = \"Classification\", outputCol = \"label\").fit(breast_cancer_df)\n",
        "breast_cancer_df = indexer.transform(breast_cancer_df)\n",
        "breast_cancer_df.show(10)"
      ]
    },
    {
      "cell_type": "code",
      "execution_count": 5,
      "metadata": {
        "colab": {
          "base_uri": "https://localhost:8080/",
          "height": 426
        },
        "id": "Ud9mj8FiCYxL",
        "outputId": "1dc4b72b-74c9-477f-f0c2-d2af142c8d93"
      },
      "outputs": [
        {
          "output_type": "execute_result",
          "data": {
            "text/plain": [
              "                    0                   1                    2            3  \\\n",
              "summary         count                mean               stddev          min   \n",
              "Age               116   57.30172413793103   16.112765572452282           24   \n",
              "BMI               116  27.582110827413807    5.020135768568436        18.37   \n",
              "Glucose           116   97.79310344827586   22.525161676350454           60   \n",
              "Insulin           116  10.012086206896548   10.067767636993997        2.432   \n",
              "HOMA              116  2.6949875643965515   3.6420431918896914  0.467408667   \n",
              "Leptin            116   26.61508017241379    19.18329407226946        4.311   \n",
              "Adiponectin       116  10.180873965517243    6.843341448787964      1.65602   \n",
              "Resistin          116  14.725965862068964    12.39064567765953         3.21   \n",
              "MCP_1             116   534.6470000000003   345.91266325599037       45.843   \n",
              "Classification    116  1.5517241379310345    0.499474986729882            1   \n",
              "label             116  0.4482758620689655  0.49947498672988183          0.0   \n",
              "\n",
              "                          4  \n",
              "summary                 max  \n",
              "Age                      89  \n",
              "BMI             38.57875854  \n",
              "Glucose                 201  \n",
              "Insulin               58.46  \n",
              "HOMA            25.05034187  \n",
              "Leptin                90.28  \n",
              "Adiponectin           38.04  \n",
              "Resistin               82.1  \n",
              "MCP_1               1698.44  \n",
              "Classification            2  \n",
              "label                   1.0  "
            ],
            "text/html": [
              "\n",
              "  <div id=\"df-d948cb2f-6092-47c6-86ad-03eb0300e983\">\n",
              "    <div class=\"colab-df-container\">\n",
              "      <div>\n",
              "<style scoped>\n",
              "    .dataframe tbody tr th:only-of-type {\n",
              "        vertical-align: middle;\n",
              "    }\n",
              "\n",
              "    .dataframe tbody tr th {\n",
              "        vertical-align: top;\n",
              "    }\n",
              "\n",
              "    .dataframe thead th {\n",
              "        text-align: right;\n",
              "    }\n",
              "</style>\n",
              "<table border=\"1\" class=\"dataframe\">\n",
              "  <thead>\n",
              "    <tr style=\"text-align: right;\">\n",
              "      <th></th>\n",
              "      <th>0</th>\n",
              "      <th>1</th>\n",
              "      <th>2</th>\n",
              "      <th>3</th>\n",
              "      <th>4</th>\n",
              "    </tr>\n",
              "  </thead>\n",
              "  <tbody>\n",
              "    <tr>\n",
              "      <th>summary</th>\n",
              "      <td>count</td>\n",
              "      <td>mean</td>\n",
              "      <td>stddev</td>\n",
              "      <td>min</td>\n",
              "      <td>max</td>\n",
              "    </tr>\n",
              "    <tr>\n",
              "      <th>Age</th>\n",
              "      <td>116</td>\n",
              "      <td>57.30172413793103</td>\n",
              "      <td>16.112765572452282</td>\n",
              "      <td>24</td>\n",
              "      <td>89</td>\n",
              "    </tr>\n",
              "    <tr>\n",
              "      <th>BMI</th>\n",
              "      <td>116</td>\n",
              "      <td>27.582110827413807</td>\n",
              "      <td>5.020135768568436</td>\n",
              "      <td>18.37</td>\n",
              "      <td>38.57875854</td>\n",
              "    </tr>\n",
              "    <tr>\n",
              "      <th>Glucose</th>\n",
              "      <td>116</td>\n",
              "      <td>97.79310344827586</td>\n",
              "      <td>22.525161676350454</td>\n",
              "      <td>60</td>\n",
              "      <td>201</td>\n",
              "    </tr>\n",
              "    <tr>\n",
              "      <th>Insulin</th>\n",
              "      <td>116</td>\n",
              "      <td>10.012086206896548</td>\n",
              "      <td>10.067767636993997</td>\n",
              "      <td>2.432</td>\n",
              "      <td>58.46</td>\n",
              "    </tr>\n",
              "    <tr>\n",
              "      <th>HOMA</th>\n",
              "      <td>116</td>\n",
              "      <td>2.6949875643965515</td>\n",
              "      <td>3.6420431918896914</td>\n",
              "      <td>0.467408667</td>\n",
              "      <td>25.05034187</td>\n",
              "    </tr>\n",
              "    <tr>\n",
              "      <th>Leptin</th>\n",
              "      <td>116</td>\n",
              "      <td>26.61508017241379</td>\n",
              "      <td>19.18329407226946</td>\n",
              "      <td>4.311</td>\n",
              "      <td>90.28</td>\n",
              "    </tr>\n",
              "    <tr>\n",
              "      <th>Adiponectin</th>\n",
              "      <td>116</td>\n",
              "      <td>10.180873965517243</td>\n",
              "      <td>6.843341448787964</td>\n",
              "      <td>1.65602</td>\n",
              "      <td>38.04</td>\n",
              "    </tr>\n",
              "    <tr>\n",
              "      <th>Resistin</th>\n",
              "      <td>116</td>\n",
              "      <td>14.725965862068964</td>\n",
              "      <td>12.39064567765953</td>\n",
              "      <td>3.21</td>\n",
              "      <td>82.1</td>\n",
              "    </tr>\n",
              "    <tr>\n",
              "      <th>MCP_1</th>\n",
              "      <td>116</td>\n",
              "      <td>534.6470000000003</td>\n",
              "      <td>345.91266325599037</td>\n",
              "      <td>45.843</td>\n",
              "      <td>1698.44</td>\n",
              "    </tr>\n",
              "    <tr>\n",
              "      <th>Classification</th>\n",
              "      <td>116</td>\n",
              "      <td>1.5517241379310345</td>\n",
              "      <td>0.499474986729882</td>\n",
              "      <td>1</td>\n",
              "      <td>2</td>\n",
              "    </tr>\n",
              "    <tr>\n",
              "      <th>label</th>\n",
              "      <td>116</td>\n",
              "      <td>0.4482758620689655</td>\n",
              "      <td>0.49947498672988183</td>\n",
              "      <td>0.0</td>\n",
              "      <td>1.0</td>\n",
              "    </tr>\n",
              "  </tbody>\n",
              "</table>\n",
              "</div>\n",
              "      <button class=\"colab-df-convert\" onclick=\"convertToInteractive('df-d948cb2f-6092-47c6-86ad-03eb0300e983')\"\n",
              "              title=\"Convert this dataframe to an interactive table.\"\n",
              "              style=\"display:none;\">\n",
              "        \n",
              "  <svg xmlns=\"http://www.w3.org/2000/svg\" height=\"24px\"viewBox=\"0 0 24 24\"\n",
              "       width=\"24px\">\n",
              "    <path d=\"M0 0h24v24H0V0z\" fill=\"none\"/>\n",
              "    <path d=\"M18.56 5.44l.94 2.06.94-2.06 2.06-.94-2.06-.94-.94-2.06-.94 2.06-2.06.94zm-11 1L8.5 8.5l.94-2.06 2.06-.94-2.06-.94L8.5 2.5l-.94 2.06-2.06.94zm10 10l.94 2.06.94-2.06 2.06-.94-2.06-.94-.94-2.06-.94 2.06-2.06.94z\"/><path d=\"M17.41 7.96l-1.37-1.37c-.4-.4-.92-.59-1.43-.59-.52 0-1.04.2-1.43.59L10.3 9.45l-7.72 7.72c-.78.78-.78 2.05 0 2.83L4 21.41c.39.39.9.59 1.41.59.51 0 1.02-.2 1.41-.59l7.78-7.78 2.81-2.81c.8-.78.8-2.07 0-2.86zM5.41 20L4 18.59l7.72-7.72 1.47 1.35L5.41 20z\"/>\n",
              "  </svg>\n",
              "      </button>\n",
              "      \n",
              "  <style>\n",
              "    .colab-df-container {\n",
              "      display:flex;\n",
              "      flex-wrap:wrap;\n",
              "      gap: 12px;\n",
              "    }\n",
              "\n",
              "    .colab-df-convert {\n",
              "      background-color: #E8F0FE;\n",
              "      border: none;\n",
              "      border-radius: 50%;\n",
              "      cursor: pointer;\n",
              "      display: none;\n",
              "      fill: #1967D2;\n",
              "      height: 32px;\n",
              "      padding: 0 0 0 0;\n",
              "      width: 32px;\n",
              "    }\n",
              "\n",
              "    .colab-df-convert:hover {\n",
              "      background-color: #E2EBFA;\n",
              "      box-shadow: 0px 1px 2px rgba(60, 64, 67, 0.3), 0px 1px 3px 1px rgba(60, 64, 67, 0.15);\n",
              "      fill: #174EA6;\n",
              "    }\n",
              "\n",
              "    [theme=dark] .colab-df-convert {\n",
              "      background-color: #3B4455;\n",
              "      fill: #D2E3FC;\n",
              "    }\n",
              "\n",
              "    [theme=dark] .colab-df-convert:hover {\n",
              "      background-color: #434B5C;\n",
              "      box-shadow: 0px 1px 3px 1px rgba(0, 0, 0, 0.15);\n",
              "      filter: drop-shadow(0px 1px 2px rgba(0, 0, 0, 0.3));\n",
              "      fill: #FFFFFF;\n",
              "    }\n",
              "  </style>\n",
              "\n",
              "      <script>\n",
              "        const buttonEl =\n",
              "          document.querySelector('#df-d948cb2f-6092-47c6-86ad-03eb0300e983 button.colab-df-convert');\n",
              "        buttonEl.style.display =\n",
              "          google.colab.kernel.accessAllowed ? 'block' : 'none';\n",
              "\n",
              "        async function convertToInteractive(key) {\n",
              "          const element = document.querySelector('#df-d948cb2f-6092-47c6-86ad-03eb0300e983');\n",
              "          const dataTable =\n",
              "            await google.colab.kernel.invokeFunction('convertToInteractive',\n",
              "                                                     [key], {});\n",
              "          if (!dataTable) return;\n",
              "\n",
              "          const docLinkHtml = 'Like what you see? Visit the ' +\n",
              "            '<a target=\"_blank\" href=https://colab.research.google.com/notebooks/data_table.ipynb>data table notebook</a>'\n",
              "            + ' to learn more about interactive tables.';\n",
              "          element.innerHTML = '';\n",
              "          dataTable['output_type'] = 'display_data';\n",
              "          await google.colab.output.renderOutput(dataTable, element);\n",
              "          const docLink = document.createElement('div');\n",
              "          docLink.innerHTML = docLinkHtml;\n",
              "          element.appendChild(docLink);\n",
              "        }\n",
              "      </script>\n",
              "    </div>\n",
              "  </div>\n",
              "  "
            ]
          },
          "metadata": {},
          "execution_count": 5
        }
      ],
      "source": [
        "# (4) Calculate standard statistical descriptive analytics on the raw Breast Cancer Spark DataFrame\n",
        "breast_cancer_df.describe().toPandas().transpose()"
      ]
    },
    {
      "cell_type": "code",
      "execution_count": 6,
      "metadata": {
        "colab": {
          "base_uri": "https://localhost:8080/"
        },
        "id": "H0fKz_ZpCYxO",
        "outputId": "edded7cb-26ed-4534-d440-e97ff4056680"
      },
      "outputs": [
        {
          "output_type": "execute_result",
          "data": {
            "text/plain": [
              "[Row(features=DenseVector([48.0, 23.5, 70.0, 2.707, 0.4674, 8.8071, 9.7024, 7.9958, 417.114]), label=1.0),\n",
              " Row(features=DenseVector([83.0, 20.6905, 92.0, 3.115, 0.7069, 8.8438, 5.4293, 4.064, 468.786]), label=1.0),\n",
              " Row(features=DenseVector([82.0, 23.1247, 91.0, 4.498, 1.0097, 17.9393, 22.432, 9.2772, 554.697]), label=1.0),\n",
              " Row(features=DenseVector([68.0, 21.3675, 77.0, 3.226, 0.6127, 9.8827, 7.1696, 12.766, 928.22]), label=1.0),\n",
              " Row(features=DenseVector([86.0, 21.1111, 92.0, 3.549, 0.8054, 6.6994, 4.8192, 10.5764, 773.92]), label=1.0),\n",
              " Row(features=DenseVector([49.0, 22.8545, 92.0, 3.226, 0.7321, 6.8317, 13.6798, 10.3176, 530.41]), label=1.0),\n",
              " Row(features=DenseVector([89.0, 22.7, 77.0, 4.69, 0.8908, 6.964, 5.5899, 12.9361, 1256.083]), label=1.0),\n",
              " Row(features=DenseVector([76.0, 23.8, 118.0, 6.47, 1.8832, 4.311, 13.2513, 5.1042, 280.694]), label=1.0),\n",
              " Row(features=DenseVector([73.0, 22.0, 97.0, 3.35, 0.8015, 4.47, 10.3587, 6.2844, 136.855]), label=1.0),\n",
              " Row(features=DenseVector([75.0, 23.0, 83.0, 4.952, 1.0138, 17.127, 11.579, 7.0913, 318.302]), label=1.0)]"
            ]
          },
          "metadata": {},
          "execution_count": 6
        }
      ],
      "source": [
        "# (5) Generate Input Feature Vectors from the Raw Spark DataFrame\n",
        "feature_columns = ['Age', 'BMI', 'Glucose', 'Insulin', 'HOMA', 'Leptin', 'Adiponectin', 'Resistin', 'MCP_1']\n",
        "label_column = 'label'\n",
        "vector_assembler = VectorAssembler(inputCols = feature_columns, outputCol = 'features')\n",
        "breast_cancer_features_df = vector_assembler.transform(breast_cancer_df).select(['features', label_column])\n",
        "breast_cancer_features_df.head(10)"
      ]
    },
    {
      "cell_type": "code",
      "execution_count": 7,
      "metadata": {
        "colab": {
          "base_uri": "https://localhost:8080/"
        },
        "id": "IQvlBUpjCYxP",
        "outputId": "8cbbc0df-b130-4301-f026-cac42a99d12c"
      },
      "outputs": [
        {
          "output_type": "execute_result",
          "data": {
            "text/plain": [
              "(103, 13)"
            ]
          },
          "metadata": {},
          "execution_count": 7
        }
      ],
      "source": [
        "# (6) Split the Raw DataFrame into a Training DataFrame and a Test DataFrame\n",
        "train_df, test_df = breast_cancer_features_df.randomSplit([0.75, 0.25], seed=12345)\n",
        "train_df.count(), test_df.count()"
      ]
    },
    {
      "cell_type": "code",
      "execution_count": 8,
      "metadata": {
        "id": "S8kh_a2gCYxR"
      },
      "outputs": [],
      "source": [
        "# (7) Train a Logistic Regression Model on the Training DataFrame\n",
        "logistic_regression = LogisticRegression(featuresCol = 'features', labelCol = label_column)\n",
        "logistic_regression_model = logistic_regression.fit(train_df)"
      ]
    },
    {
      "cell_type": "code",
      "execution_count": 9,
      "metadata": {
        "colab": {
          "base_uri": "https://localhost:8080/"
        },
        "id": "7Lrxjb-pCYxS",
        "outputId": "3a75fc48-66c9-46b0-da8d-dd47fb1bc341"
      },
      "outputs": [
        {
          "output_type": "stream",
          "name": "stdout",
          "text": [
            "Model Coefficients: DenseMatrix([[ 0.02052757,  0.19301768, -0.10805388, -0.22254947,  0.68051123,\n",
            "               0.00305008,  0.00615943, -0.05032843, -0.00105035]])\n",
            "Intercept: [5.0280469322433206]\n"
          ]
        }
      ],
      "source": [
        "# (8) Output Logistic Regression Model Summary Statistics to evaluate the Training Model\n",
        "print(\"Model Coefficients: \" + str(logistic_regression_model.coefficientMatrix))\n",
        "print(\"Intercept: \" + str(logistic_regression_model.interceptVector))"
      ]
    },
    {
      "cell_type": "code",
      "execution_count": 10,
      "metadata": {
        "colab": {
          "base_uri": "https://localhost:8080/"
        },
        "id": "iknzWimbCYxT",
        "outputId": "8f87cfd6-79f7-49b1-97e0-2e35c9f1e61b"
      },
      "outputs": [
        {
          "output_type": "stream",
          "name": "stdout",
          "text": [
            "TEST DATASET PREDICTIONS AGAINST ACTUAL LABEL: \n",
            "+--------------------+--------------------+----------+-----+--------------------+\n",
            "|         probability|       rawPrediction|prediction|label|            features|\n",
            "+--------------------+--------------------+----------+-----+--------------------+\n",
            "|[0.37086488683271...|[-0.5285082300994...|       1.0|  1.0|[34.0,21.47,78.0,...|\n",
            "|[0.55715197381954...|[0.22961139103252...|       0.0|  1.0|[44.0,20.76,86.0,...|\n",
            "|[0.97646269593323...|[3.72534997813025...|       0.0|  0.0|[44.0,24.74,106.0...|\n",
            "|[0.96286084213833...|[3.25523701585897...|       0.0|  0.0|[45.0,21.30394858...|\n",
            "|[0.18387877472320...|[-1.4902861968612...|       1.0|  0.0|[46.0,33.18,92.0,...|\n",
            "|[0.40272247959029...|[-0.3941341752116...|       1.0|  1.0|[50.0,38.57875854...|\n",
            "|[0.83872206535738...|[1.64875020387755...|       0.0|  0.0|[51.0,22.89281998...|\n",
            "|[0.79224512586494...|[1.33851195128227...|       0.0|  0.0|[64.0,22.22222222...|\n",
            "|[0.38241212581809...|[-0.4793224742951...|       1.0|  0.0|[66.0,26.5625,89....|\n",
            "|[0.57222954390448...|[0.29095347723434...|       0.0|  1.0|[73.0,22.0,97.0,3...|\n",
            "|[0.25754835210406...|[-1.0587502702398...|       1.0|  1.0|[75.0,23.0,83.0,4...|\n",
            "|[0.98556582428296...|[4.22361720873652...|       0.0|  0.0|[75.0,30.48,152.0...|\n",
            "|[0.64783447287987...|[0.60953390806776...|       0.0|  1.0|[86.0,21.11111111...|\n",
            "+--------------------+--------------------+----------+-----+--------------------+\n",
            "\n"
          ]
        }
      ],
      "source": [
        "# (9) Apply the Trained Logistic Regression Model to the Test DataFrame to make predictions\n",
        "test_logistic_regression_predictions_df = logistic_regression_model.transform(test_df)\n",
        "print(\"TEST DATASET PREDICTIONS AGAINST ACTUAL LABEL: \")\n",
        "test_logistic_regression_predictions_df.select(\"probability\", \"rawPrediction\", \"prediction\", label_column, \"features\").show()"
      ]
    },
    {
      "cell_type": "code",
      "execution_count": 11,
      "metadata": {
        "colab": {
          "base_uri": "https://localhost:8080/",
          "height": 313
        },
        "id": "NcqJ4cfTCYxV",
        "outputId": "fe48e9d2-1f7a-4d37-d459-27a3428960a7"
      },
      "outputs": [
        {
          "output_type": "display_data",
          "data": {
            "text/plain": [
              "<Figure size 432x288 with 1 Axes>"
            ],
            "image/png": "[encoded data removed]"
          },
          "metadata": {
            "needs_background": "light"
          }
        },
        {
          "output_type": "stream",
          "name": "stdout",
          "text": [
            "Area Under ROC Curve on Test Data = 0.761905\n"
          ]
        }
      ],
      "source": [
        "# (10) Evaluate the performance of our Logistic Regression Model on the Test DataFrame using Area under a ROC curve\n",
        "test_summary = logistic_regression_model.evaluate(test_df)\n",
        "roc = test_summary.roc.toPandas()\n",
        "plt.plot(roc['FPR'],roc['TPR'])\n",
        "plt.ylabel('False Positive Rate')\n",
        "plt.xlabel('True Positive Rate')\n",
        "plt.title('ROC Curve')\n",
        "plt.show()\n",
        "evaluator_roc_area = BinaryClassificationEvaluator(rawPredictionCol = \"rawPrediction\", labelCol = label_column, metricName = \"areaUnderROC\")\n",
        "print(\"Area Under ROC Curve on Test Data = %g\" % evaluator_roc_area.evaluate(test_logistic_regression_predictions_df))"
      ]
    },
    {
      "cell_type": "code",
      "execution_count": 12,
      "metadata": {
        "colab": {
          "base_uri": "https://localhost:8080/"
        },
        "id": "qpBcLQE7CYxW",
        "outputId": "2983191e-ee10-485e-a22e-8606b85d3e0d"
      },
      "outputs": [
        {
          "output_type": "stream",
          "name": "stdout",
          "text": [
            "N = 13\n",
            "Overall Accuracy = 0.615385\n",
            "Overall Error Rate = 0.384615\n",
            "Sensitivity = 0.5\n",
            "Specificity = 0.714286\n"
          ]
        }
      ],
      "source": [
        "# (11) Generate a Confusion/Classification Matrix\n",
        "N = test_logistic_regression_predictions_df.count()\n",
        "true_positives = test_logistic_regression_predictions_df.filter( col(\"prediction\") == 1.0 ).filter( col(\"label\") == 1.0 ).count()\n",
        "true_negatives = test_logistic_regression_predictions_df.filter( col(\"prediction\") == 0.0 ).filter( col(\"label\") == 0.0 ).count()\n",
        "false_positives = test_logistic_regression_predictions_df.filter( col(\"prediction\") == 1.0 ).filter( col(\"label\") == 0.0 ).count()\n",
        "false_negatives = test_logistic_regression_predictions_df.filter( col(\"prediction\") == 0.0 ).filter( col(\"label\") == 1.0 ).count()\n",
        "print(\"N = %g\" % N)\n",
        "print(\"Overall Accuracy = %g\" % ((true_negatives + true_positives)/N))\n",
        "print(\"Overall Error Rate = %g\" % ((false_negatives + false_positives)/N))\n",
        "print(\"Sensitivity = %g\" % (true_positives / (true_positives + false_negatives)))\n",
        "print(\"Specificity = %g\" % (true_negatives / (true_negatives + false_positives)))"
      ]
    },
    {
      "cell_type": "code",
      "execution_count": null,
      "metadata": {
        "id": "QqKy8560CYxY"
      },
      "outputs": [],
      "source": [
        "# (13) Stop the Spark Context\n",
        "spark.stop()"
      ]
    }
  ],
  "metadata": {
    "kernelspec": {
      "display_name": "Python 3",
      "language": "python",
      "name": "python3"
    },
    "language_info": {
      "codemirror_mode": {
        "name": "ipython",
        "version": 3
      },
      "file_extension": ".py",
      "mimetype": "text/x-python",
      "name": "python",
      "nbconvert_exporter": "python",
      "pygments_lexer": "ipython3",
      "version": "3.6.5"
    },
    "colab": {
      "provenance": []
    }
  },
  "nbformat": 4,
  "nbformat_minor": 0
}